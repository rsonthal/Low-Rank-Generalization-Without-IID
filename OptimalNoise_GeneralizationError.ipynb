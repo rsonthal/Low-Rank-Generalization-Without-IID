{
  "nbformat": 4,
  "nbformat_minor": 0,
  "metadata": {
    "colab": {
      "provenance": []
    },
    "kernelspec": {
      "name": "python3",
      "display_name": "Python 3"
    },
    "language_info": {
      "name": "python"
    }
  },
  "cells": [
    {
      "cell_type": "code",
      "execution_count": null,
      "metadata": {
        "id": "zAEHZ383XZBu"
      },
      "outputs": [],
      "source": [
        "##Import required libraries and packages\n",
        "\n",
        "import torch\n",
        "import numpy as np\n",
        "import matplotlib.pyplot as plt\n",
        "from PIL import Image\n",
        "import seaborn as sb\n",
        "from tqdm import tqdm\n",
        "\n",
        "import torchvision\n",
        "import torch.nn.functional as F\n",
        "from torch.nn import init\n",
        "import torchvision.transforms as Tranforms\n",
        "import torch.optim as optim\n",
        "from torch.utils.data import DataLoader\n",
        "from torch.utils.data import sampler\n",
        "import torch.nn as nn\n",
        "import matplotlib.gridspec as gridspec\n",
        "from IPython.display import clear_output\n",
        "%matplotlib inline\n",
        "\n",
        "torch.set_default_device(\"cuda\")"
      ]
    },
    {
      "cell_type": "code",
      "source": [
        "##Mount Google Drive to save tensors\n",
        "\n",
        "from google.colab import drive\n",
        "drive.mount('/content/drive')"
      ],
      "metadata": {
        "id": "AnizxFcQXe6P"
      },
      "execution_count": null,
      "outputs": []
    },
    {
      "cell_type": "code",
      "source": [
        "## Check if cuda is available\n",
        "\n",
        "if torch.cuda.is_available(): \n",
        "  torch.set_default_device(\"cuda\")\n",
        "  device = 'cuda'\n",
        "else:\n",
        "  torch.set_default_device(\"cpu\")\n",
        "  device = 'cpu'\n",
        "\n",
        "print(device)"
      ],
      "metadata": {
        "id": "kfnqBGL-Xgg1"
      },
      "execution_count": null,
      "outputs": []
    },
    {
      "cell_type": "code",
      "source": [
        "##Import required Datasets: CIFAR, STL10, SVHN\n",
        "\n",
        "import torchvision\n",
        "import torchvision.datasets as data\n",
        "import torchvision.transforms as Transforms\n",
        "\n",
        "Tflatten = Transforms.Lambda(lambda x: torch.flatten(x))\n",
        "Tcuda = Transforms.Lambda(lambda x: x.to(\"cuda\"))\n",
        "Tfloat = Transforms.Lambda(lambda x: x.to(torch.float))\n",
        "\n",
        "T = Transforms.Compose([Transforms.ToTensor(), Tfloat, Tflatten, Tcuda])\n",
        "cifar_train = data.CIFAR10(\"./\", train = True, download = True, transform=T)\n",
        "cifar_dataloader = torch.utils.data.DataLoader(cifar_train)\n",
        "print(\"CIFAR:\", next(iter(cifar_dataloader))[0].shape)\n",
        "print(\"CIFAR:\", cifar_train.data.shape)\n",
        "\n",
        "T = Transforms.Compose([Transforms.ToTensor(), Tfloat, Transforms.Normalize(mean = [0,0,0], std = [5,5,5]), Tflatten, Tcuda])\n",
        "cifar_test = data.CIFAR10(\"./\", train = False, download = True, transform=T)\n",
        "cifar_dataloader = torch.utils.data.DataLoader(cifar_test)\n",
        "print(\"CIFAR:\", next(iter(cifar_dataloader))[0].shape)\n",
        "print(\"CIFAR:\", cifar_test.data.shape)\n",
        "\n",
        "T = Transforms.Compose([Transforms.ToTensor(), Transforms.Resize((32,32)), Tfloat, Transforms.Normalize(mean = [0,0,0], std = [5,5,5]), Tflatten, Tcuda])\n",
        "stl10_train = data.STL10(\"./\", split = 'train', download = True, transform=T)\n",
        "stl10_dataloader = torch.utils.data.DataLoader(stl10_train)\n",
        "print(\"STL10:\", next(iter(stl10_dataloader))[0].shape)\n",
        "print(\"STL10:\", stl10_train.data.shape)\n",
        "\n",
        "T = Transforms.Compose([Transforms.ToTensor(), Tfloat, Transforms.Normalize(mean = [0,0,0], std = [5,5,5]), Tflatten, Tcuda])\n",
        "svhn_train = data.SVHN(\"./\", split = 'train', download = True, transform=T)\n",
        "svhn_dataloader = torch.utils.data.DataLoader(svhn_train)\n",
        "print(\"SVHN:\", next(iter(svhn_dataloader))[0].shape)\n",
        "print(\"SVHN:\", svhn_train.data.shape)"
      ],
      "metadata": {
        "id": "Y504EB9xXmEV"
      },
      "execution_count": null,
      "outputs": []
    },
    {
      "cell_type": "code",
      "source": [
        "##Define all functions required for the theoretical results (refer to Theorems)\n",
        "\n",
        "def eigen_squared(cr, z):\n",
        "  num = z * cr ** 2 + cr ** 2 + z * cr - 2*cr + 1\n",
        "  den = 2*z**2*cr * np.sqrt(4*z*cr**2 + (1-cr + cr*z)**2)\n",
        "  return num/den + (1-1/cr)/(2*z**2)\n",
        "\n",
        "def scale(cr,z):\n",
        "  return 0.5 + (1+z*cr-np.sqrt(4*z*cr**2 + (1-cr + cr*z)**2))/(2*cr)\n",
        "\n",
        "def scale_squared(cr,z):\n",
        "  return -0.5 + (1+cr+z*cr)/(2*np.sqrt(4*z*cr**2 + (1-cr + cr*z)**2))\n",
        "\n",
        "def scale_both_squared(cr,z):\n",
        "  return scale(cr,z) - z*scale_squared(cr,z)\n",
        "\n",
        "def var(c,r,d,N):\n",
        "  cr = r/N\n",
        "  if c < 1:\n",
        "    return r * (scale_both_squared(cr, 1/c) + scale_squared(cr,1/c))/(d*(1-c))\n",
        "  else:\n",
        "    return r * c * scale(cr,1) / (d*(c-1))\n",
        "\n",
        "def calc_gen_error_new(M,ntrn,c,ntst,r,S1,L):\n",
        "  gen_error = 0\n",
        "  if c<1:\n",
        "    gen_error += (torch.diag(1/(1+S1**2*c)) @ L).square().sum()/L.shape[1]\n",
        "  if c>1:\n",
        "    gen_error += (torch.diag(1/(1+S1**2)) @ L).square().sum()/L.shape[1]\n",
        "\n",
        "  return gen_error + var(c,r,M,ntrn)\n",
        "\n",
        "# Cov might need to be diagonal....\n",
        "def calc_gen_error_new_new(M,ntrn,c,ntst,r,S1,Cov):\n",
        "  gen_error = 0\n",
        "  if c<1:\n",
        "    gen_error += eigen_squared(r/ntrn, 1/c) * (Cov).square().sum()/(c**2)\n",
        "  if c>1:\n",
        "    gen_error += eigen_squared(r/ntrn, 1) * (Cov).square().sum()\n",
        "\n",
        "  return gen_error + var(c,r,M,ntrn)\n",
        "\n",
        "def calc_gen_error(M,ntrn,c,ntst,r,S1,L):\n",
        "  gen_error = 0\n",
        "  if c<1:\n",
        "    gen_error += (torch.diag(1/(1+S1**2*c)) @ L).square().sum()/L.shape[1]\n",
        "  if c>1:\n",
        "    gen_error += (torch.diag(1/(1+S1**2)) @ L).square().sum()/L.shape[1]\n",
        "  \n",
        "  gen_error += calc_wnorm(c,r,S1)/M\n",
        "\n",
        "  return gen_error \n",
        "\n",
        "def calc_gen_error_regression(M,ntrn,c,ntst,r,S1,L,betahat):\n",
        "  gen_error = 0\n",
        "  if c<1:\n",
        "    gen_error += (betahat.T @ torch.diag(1/(1+S1**2*c)) @ L).square().sum()/L.shape[1]\n",
        "  if c>1:\n",
        "    gen_error += (betahat.T @ torch.diag(1/(1+S1**2)) @ L).square().sum()/L.shape[1]\n",
        "  \n",
        "  gen_error += calc_wnorm_regression(c,r,S1,betahat)/M\n",
        "\n",
        "  return gen_error \n",
        "\n",
        "def calc_lower_bound(M,ntrn,c,ntst,r,S1,L,alpha):\n",
        "  wnorm_root = calc_wnorm(c,r,S1).sqrt()\n",
        "  if c<1:\n",
        "    bias = (torch.diag(1/(1+S1**2*c)) @ L).square().sum().sqrt()\n",
        "  if c>1:\n",
        "    bias = (torch.diag(1/(1+S1**2)) @ L).square().sum().sqrt()\n",
        "  \n",
        "  bias = (bias-alpha*(wnorm_root+1))**2/L.shape[0]\n",
        "\n",
        "  return bias + wnorm_root.square()/M\n",
        "\n",
        "def calc_upper_bound(M,ntrn,c,ntst,r,S1,L,alpha):\n",
        "  wnorm_root = calc_wnorm(c,r,S1).sqrt()\n",
        "  if c<1:\n",
        "    bias = (torch.diag(1/(1+S1**2*c)) @ L).square().sum().sqrt()\n",
        "  if c>1:\n",
        "    bias = (torch.diag(1/(1+S1**2)) @  L).square().sum().sqrt()\n",
        "  \n",
        "  bias = (bias+alpha*(wnorm_root+1))**2/L.shape[0]\n",
        "\n",
        "  return bias + wnorm_root.square()/M\n",
        "\n",
        "def calc_W_minus_I_norm(c,r,S1,M):\n",
        "  wnorm = 0\n",
        "  if c<1:\n",
        "    for i in range(1):\n",
        "      wnorm = wnorm +  (((c**2*(S1[i]**2 + S1[i]**4))/((1+S1[i]**2*c)**2*(1-c))).sqrt()+1)**2\n",
        "  if c>1:\n",
        "    for i in range(1):\n",
        "      wnorm = wnorm +  (((c*S1[i]**2)/((1+S1[i]**2)*(c-1))).sqrt()+1).square()\n",
        "  return wnorm\n",
        "\n",
        "def calc_wnorm(c,r,S1):\n",
        "  wnorm = 0\n",
        "  if c<1:\n",
        "    for i in range(r):\n",
        "      wnorm = wnorm +  ((S1[i]**2 + S1[i]**4))/((1/c+S1[i]**2)**2*(1-c))\n",
        "  if c>1:\n",
        "    for i in range(r):\n",
        "      wnorm = wnorm +  (c*S1[i]**2)/((1+S1[i]**2)*(c-1))\n",
        "\n",
        "  return wnorm \n",
        "\n",
        "def calc_wnorm_regression(c,r,S1,betahat):\n",
        "  wnorm = 0\n",
        "  if c<1:\n",
        "    for i in range(r):\n",
        "      wnorm = wnorm +  betahat[i,0]**2 * (c**2*(S1[i]**2 + S1[i]**4))/((1+S1[i]**2*c)**2*(1-c))\n",
        "  if c>1:\n",
        "    for i in range(r):\n",
        "      wnorm = wnorm +  betahat[i,0]**2 * (c*S1[i]**2)/((1+S1[i]**2)*(c-1))\n",
        "\n",
        "  return wnorm"
      ],
      "metadata": {
        "id": "md7kjg5NXmqf"
      },
      "execution_count": null,
      "outputs": []
    },
    {
      "cell_type": "code",
      "source": [
        "#Define a folder named Denoising and subfolders named dataRanks and figures to store your data and figures\n",
        "\n",
        "path1_rank = F\"/content/drive/MyDrive/Denoising/dataRanks/\"\n",
        "path2_rank = F\"/content/drive/MyDrive/Denoising/dataRanks/\"\n",
        "\n",
        "path_figures = F\"/content/drive/My Drive/Denoising/figures/\""
      ],
      "metadata": {
        "id": "QdYvAMPWXo_W"
      },
      "execution_count": null,
      "outputs": []
    },
    {
      "cell_type": "markdown",
      "source": [
        "##Generating Figures 5 and 6"
      ],
      "metadata": {
        "id": "KlBW5digX4-p"
      }
    },
    {
      "cell_type": "code",
      "source": [
        "##Optimal Noise level and Generalization Error for optimal Noise\n",
        "\n",
        "r = 50\n",
        "M = 3072\n",
        "Ns = torch.tensor([500,750,1000,1250,1500,1750,2000,2250,2500,2600,2700,2800,2900,3000,3020,3130,3200,3300,3400,3500,3750,4000,4250,4500,4750,5000,5250,5500]).cpu()\n",
        "\n",
        "T = Ns.shape[0]\n",
        "\n",
        "opt_thetas = torch.zeros(T)\n",
        "opt_thetas_cifar = torch.zeros(T)\n",
        "opt_thetas_stl10 = torch.zeros(T)\n",
        "opt_thetas_svhn = torch.zeros(T)\n",
        "\n",
        "opt_gen_error = torch.zeros(T)\n",
        "opt_gen_error_cifar = torch.zeros(T)\n",
        "opt_gen_error_stl10 = torch.zeros(T)\n",
        "opt_gen_error_svhn = torch.zeros(T)\n",
        "\n",
        "\n",
        "for i,N in tqdm(list(enumerate(Ns))):\n",
        "\n",
        "  Ntst = N.item()\n",
        "\n",
        "  cifar_data = torch.utils.data.DataLoader(cifar_train, batch_size = N.item(), shuffle = False)\n",
        "  Xtrn = next(iter(cifar_data))[0].T\n",
        "  U,S,Vh = torch.linalg.svd(Xtrn)\n",
        "  Xtrn = U[:,:r] @ torch.diag(S[:r]) @ Vh[:r,:]\n",
        "\n",
        "  cifar_test_data = torch.utils.data.DataLoader(cifar_test, batch_size = Ntst, shuffle = False)\n",
        "  Xtst_cifar = next(iter(cifar_test_data))[0].T\n",
        "\n",
        "  stl10_data = torch.utils.data.DataLoader(stl10_train, batch_size = Ntst, shuffle = False)\n",
        "  Xtst_stl10 = next(iter(stl10_data))[0].T\n",
        "\n",
        "  svhn_data = torch.utils.data.DataLoader(svhn_train, batch_size = Ntst, shuffle = False)\n",
        "  Xtst_svhn = next(iter(svhn_data))[0].T\n",
        "\n",
        "  print(Xtrn.shape, Xtst_cifar.shape)\n",
        "\n",
        "  U = U[:,:r]\n",
        "  Vh = Vh[:r,:]\n",
        "  \n",
        "  L_cifar = U[:,:r].T @ Xtst_cifar\n",
        "  L_stl10 = U[:,:r].T @ Xtst_stl10\n",
        "  L_svhn = U[:,:r].T @ Xtst_svhn\n",
        "\n",
        "  S = S[:r]\n",
        "\n",
        "  L = torch.diag(S[:r]) @ Vh[:r,:]\n",
        "\n",
        "  thetas = torch.linspace(0.01,3.5,2000) #eta is 1/theta\n",
        "  gen_error = torch.zeros(2000)\n",
        "  gen_error_cifar = torch.zeros(2000)\n",
        "  gen_error_stl10 = torch.zeros(2000)\n",
        "  gen_error_svhn = torch.zeros(2000)\n",
        "\n",
        "  for j,theta in enumerate(thetas):\n",
        "    Sigma = theta*S\n",
        "    gen_error[j] = calc_gen_error(M,N,M/N,N,r,Sigma,L)\n",
        "    gen_error_cifar[j] = calc_gen_error(M,N,M/N,N,r,Sigma,L_cifar)\n",
        "    gen_error_stl10[j] = calc_gen_error(M,N,M/N,N,r,Sigma,L_stl10)\n",
        "    gen_error_svhn[j] = calc_gen_error(M,N,M/N,N,r,Sigma,L_svhn)\n",
        "\n",
        "  opt_thetas[i] = thetas[gen_error.argmin()]\n",
        "  opt_thetas_cifar[i] = thetas[gen_error_cifar.argmin()]\n",
        "  opt_thetas_stl10[i] = thetas[gen_error_stl10.argmin()]\n",
        "  opt_thetas_svhn[i] = thetas[gen_error_svhn.argmin()]\n",
        "\n",
        "  opt_gen_error[i] = gen_error[gen_error.argmin()]\n",
        "  opt_gen_error_cifar[i] = gen_error_cifar[gen_error_cifar.argmin()]\n",
        "  opt_gen_error_stl10[i] = gen_error_stl10[gen_error_stl10.argmin()]\n",
        "  opt_gen_error_svhn[i] = gen_error_svhn[gen_error_svhn.argmin()]\n"
      ],
      "metadata": {
        "id": "1pI_nCe-Xypy"
      },
      "execution_count": null,
      "outputs": []
    },
    {
      "cell_type": "code",
      "source": [
        "torch.save((opt_thetas,opt_gen_error), \"drive/MyDrive/Denoising/opt-theta-opt-error-cifar-train-finer.pt\")\n",
        "torch.save((opt_thetas_cifar,opt_gen_error_cifar), \"drive/MyDrive/Denoising/opt-theta-opt-error-cifar-test-finer.pt\")\n",
        "torch.save((opt_thetas_stl10,opt_gen_error_stl10), \"drive/MyDrive/Denoising/opt-theta-opt-error-stl10-test-finer.pt\")\n",
        "torch.save((opt_thetas_svhn,opt_gen_error_svhn), \"drive/MyDrive/Denoising/opt-theta-opt-error-svhn-test-finer.pt\")"
      ],
      "metadata": {
        "id": "F9lbqBu0YB2k"
      },
      "execution_count": null,
      "outputs": []
    },
    {
      "cell_type": "code",
      "source": [
        "(opt_thetas,opt_gen_error) = torch.load(\"drive/MyDrive/Denoising/opt-theta-opt-error-cifar-train-finer.pt\")\n",
        "(opt_thetas_cifar,opt_gen_error_cifar) = torch.load(\"drive/MyDrive/Denoising/opt-theta-opt-error-cifar-test-finer.pt\")\n",
        "(opt_thetas_stl10,opt_gen_error_stl10) = torch.load(\"drive/MyDrive/Denoising/opt-theta-opt-error-stl10-test-finer.pt\")\n",
        "(opt_thetas_svhn,opt_gen_error_svhn) = torch.load(\"drive/MyDrive/Denoising/opt-theta-opt-error-svhn-test-finer.pt\")"
      ],
      "metadata": {
        "id": "6vO6ZNJ1YJS1"
      },
      "execution_count": null,
      "outputs": []
    },
    {
      "cell_type": "markdown",
      "source": [
        "### Plot optimal Noise\n"
      ],
      "metadata": {
        "id": "Gc9ubk1nYbgj"
      }
    },
    {
      "cell_type": "code",
      "source": [
        "plt.rc('font',size=20)\n",
        "plt.rc('xtick', labelsize=14) \n",
        "plt.rc('ytick', labelsize=14)\n",
        "plt.rc('legend',fontsize=13)"
      ],
      "metadata": {
        "id": "uvyKEyQaYd1z"
      },
      "execution_count": null,
      "outputs": []
    },
    {
      "cell_type": "code",
      "source": [
        "Ns = torch.tensor([500,750,1000,1250,1500,1750,2000,2250,2500,2600,2700,2800,2900,3000,3020,3130,3200,3300,3400,3500,3750,4000,4250,4500,4750,5000,5250,5500]).cpu() \n",
        "\n",
        "plt.plot(Ns.cpu()/M,1/opt_thetas.cpu(), c = \"orange\")\n",
        "plt.xlabel(r\"$c = \\frac{d}{N}$\")\n",
        "plt.ylabel(r\"Optimal $\\eta$\")\n",
        "\n",
        "plt.yscale(\"log\")\n",
        "plt.savefig(path_figures+\"train-test-opt-sigma.pdf\", facecolor = \"white\", bbox_inches = \"tight\", dpi = 300)"
      ],
      "metadata": {
        "id": "TsDLvoNZYiv6"
      },
      "execution_count": null,
      "outputs": []
    },
    {
      "cell_type": "code",
      "source": [
        "Ns = torch.tensor([500,750,1000,1250,1500,1750,2000,2250,2500,2600,2700,2800,2900,3000,3020,3130,3200,3300,3400,3500,3750,4000,4250,4500,4750,5000,5250,5500]).cpu() \n",
        "M = 3072\n",
        "\n",
        "plt.plot(Ns.cpu()/M,1/opt_thetas_cifar.cpu(), c = \"g\")\n",
        "plt.xlabel(r\"$c = \\frac{d}{N}$\")\n",
        "plt.ylabel(r\"Optimal $\\eta$\")\n",
        "\n",
        "plt.yscale(\"log\")\n",
        "plt.savefig(path_figures+\"cifar-test-opt-sigma.pdf\", facecolor = \"white\", bbox_inches = \"tight\", dpi = 300)"
      ],
      "metadata": {
        "id": "WXcGTbo1Ys3K"
      },
      "execution_count": null,
      "outputs": []
    },
    {
      "cell_type": "code",
      "source": [
        "Ns = torch.tensor([500,750,1000,1250,1500,1750,2000,2250,2500,2600,2700,2800,2900,3000,3020,3130,3200,3300,3400,3500,3750,4000,4250,4500,4750,5000,5250,5500]).cpu() \n",
        "M = 3072\n",
        "\n",
        "\n",
        "plt.plot(Ns.cpu()/M,1/opt_thetas_stl10.cpu(), c = \"b\")\n",
        "plt.xlabel(r\"$c = \\frac{d}{N}$\")\n",
        "plt.ylabel(r\"Optimal $\\eta$\")\n",
        "\n",
        "plt.yscale(\"log\")\n",
        "plt.savefig(path_figures+\"stl10-test-opt-sigma.pdf\", facecolor = \"white\", bbox_inches = \"tight\", dpi = 300)\n",
        "\n"
      ],
      "metadata": {
        "id": "fP8Lz4CRYtWT"
      },
      "execution_count": null,
      "outputs": []
    },
    {
      "cell_type": "code",
      "source": [
        "Ns = torch.tensor([500,750,1000,1250,1500,1750,2000,2250,2500,2600,2700,2800,2900,3000,3020,3130,3200,3300,3400,3500,3750,4000,4250,4500,4750,5000,5250,5500]).cpu() \n",
        "M = 3072\n",
        "\n",
        "plt.plot(Ns.cpu()/M,1/opt_thetas_svhn.cpu(), c = \"r\")\n",
        "plt.xlabel(r\"$c = \\frac{d}{N}$\")\n",
        "plt.ylabel(r\"Optimal $\\eta$\")\n",
        "\n",
        "plt.yscale(\"log\")\n",
        "plt.savefig(path_figures+\"svhn-test-opt-sigma.pdf\", facecolor = \"white\", bbox_inches = \"tight\", dpi = 300)"
      ],
      "metadata": {
        "id": "qS7uzGMSY0Vf"
      },
      "execution_count": null,
      "outputs": []
    },
    {
      "cell_type": "markdown",
      "source": [
        "### Plot optimal Generalization Error"
      ],
      "metadata": {
        "id": "SzR9uHFdZBg9"
      }
    },
    {
      "cell_type": "code",
      "source": [
        "Ns = torch.tensor([500,750,1000,1250,1500,1750,2000,2250,2500,2600,2700,2800,2900,3000,3020,3130,3200,3300,3400,3500,3750,4000,4250,4500,4750,5000,5250,5500]).cpu() \n",
        "M = 3072\n",
        "\n",
        "plt.plot(Ns.cpu()/M,opt_gen_error.cpu(), c = \"r\")\n",
        "plt.xlabel(r\"$c = \\frac{d}{N}$\")\n",
        "plt.ylabel(\"Generalization Error\")\n",
        "plt.yscale(\"log\")\n",
        "plt.savefig(path_figures+\"train-test-opt-gen-error.pdf\", facecolor = \"white\", bbox_inches = \"tight\", dpi = 300)"
      ],
      "metadata": {
        "id": "73sbaTMkZhl9"
      },
      "execution_count": null,
      "outputs": []
    },
    {
      "cell_type": "code",
      "source": [
        "Ns = torch.tensor([500,750,1000,1250,1500,1750,2000,2250,2500,2600,2700,2800,2900,3000,3020,3130,3200,3300,3400,3500,3750,4000,4250,4500,4750,5000,5250,5500]).cpu() \n",
        "M = 3072\n",
        "\n",
        "plt.plot(Ns.cpu()/M,opt_gen_error_cifar.cpu(), c = \"r\")\n",
        "plt.xlabel(r\"$c = \\frac{d}{N}$\")\n",
        "plt.ylabel(\"Generalization Error\")\n",
        "plt.yscale(\"log\")\n",
        "plt.savefig(path_figures+\"cifar-test-opt-gen-error.pdf\", facecolor = \"white\", bbox_inches = \"tight\", dpi = 300)"
      ],
      "metadata": {
        "id": "ZIJmSYZQZhui"
      },
      "execution_count": null,
      "outputs": []
    },
    {
      "cell_type": "code",
      "source": [
        "Ns = torch.tensor([500,750,1000,1250,1500,1750,2000,2250,2500,2600,2700,2800,2900,3000,3020,3130,3200,3300,3400,3500,3750,4000,4250,4500,4750,5000,5250,5500]).cpu() \n",
        "M = 3072\n",
        "\n",
        "plt.plot(Ns.cpu()/M,opt_gen_error_stl10.cpu(), c = \"r\")\n",
        "plt.xlabel(r\"$c = \\frac{d}{N}$\")\n",
        "plt.ylabel(\"Generalization Error\")\n",
        "plt.yscale(\"log\")\n",
        "plt.savefig(path_figures+\"stl10-test-opt-gen-error.pdf\", facecolor = \"white\", bbox_inches = \"tight\", dpi = 300)"
      ],
      "metadata": {
        "id": "ub1nZuf4Zh2-"
      },
      "execution_count": null,
      "outputs": []
    },
    {
      "cell_type": "code",
      "source": [
        "Ns = torch.tensor([500,750,1000,1250,1500,1750,2000,2250,2500,2600,2700,2800,2900,3000,3020,3130,3200,3300,3400,3500,3750,4000,4250,4500,4750,5000,5250,5500]).cpu() \n",
        "M = 3072\n",
        "\n",
        "plt.plot(Ns.cpu()/M,opt_gen_error_svhn.cpu(), c = \"r\")\n",
        "plt.xlabel(r\"$c = \\frac{d}{N}$\")\n",
        "plt.ylabel(\"Generalization Error\")\n",
        "plt.yscale(\"log\")\n",
        "plt.savefig(path_figures+\"svhn-test-opt-gen-error.pdf\", facecolor = \"white\", bbox_inches = \"tight\", dpi = 300)"
      ],
      "metadata": {
        "id": "glXxkhydZDcN"
      },
      "execution_count": null,
      "outputs": []
    }
  ]
}