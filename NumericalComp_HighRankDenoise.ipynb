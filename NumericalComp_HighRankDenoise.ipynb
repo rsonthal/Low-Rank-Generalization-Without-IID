{
  "cells": [
    {
      "cell_type": "code",
      "execution_count": null,
      "metadata": {
        "id": "LRqT8uayl0AH"
      },
      "outputs": [],
      "source": [
        "##Import required libraries and packages\n",
        "\n",
        "import torch\n",
        "import numpy as np\n",
        "import matplotlib.pyplot as plt\n",
        "from PIL import Image\n",
        "import seaborn as sb\n",
        "from tqdm import tqdm\n",
        "\n",
        "import torchvision\n",
        "import torch.nn.functional as F\n",
        "from torch.nn import init\n",
        "import torchvision.transforms as Tranforms\n",
        "import torch.optim as optim\n",
        "from torch.utils.data import DataLoader\n",
        "from torch.utils.data import sampler\n",
        "import torch.nn as nn\n",
        "import matplotlib.gridspec as gridspec\n",
        "from IPython.display import clear_output\n",
        "%matplotlib inline\n",
        "\n",
        "torch.set_default_device(\"cuda\")"
      ]
    },
    {
      "cell_type": "code",
      "execution_count": null,
      "metadata": {
        "colab": {
          "base_uri": "https://localhost:8080/"
        },
        "id": "ltju9Ystmmnv",
        "outputId": "0cdf844b-19c6-4a29-d160-4b8f2405e981"
      },
      "outputs": [
        {
          "output_type": "stream",
          "name": "stdout",
          "text": [
            "Mounted at /content/drive\n"
          ]
        }
      ],
      "source": [
        "##Mount Google Drive to store tensors\n",
        "\n",
        "from google.colab import drive\n",
        "drive.mount('/content/drive')"
      ]
    },
    {
      "cell_type": "code",
      "execution_count": null,
      "metadata": {
        "colab": {
          "base_uri": "https://localhost:8080/"
        },
        "id": "oxSTPf8pgzYU",
        "outputId": "4ec6e04f-6313-48a2-976d-7f399f0e9940"
      },
      "outputs": [
        {
          "output_type": "stream",
          "name": "stdout",
          "text": [
            "cuda\n"
          ]
        }
      ],
      "source": [
        "if torch.cuda.is_available(): \n",
        "  torch.set_default_device(\"cuda\")\n",
        "  device = 'cuda'\n",
        "else:\n",
        "  torch.set_default_device(\"cpu\")\n",
        "  device = 'cpu'\n",
        "\n",
        "print(device)"
      ]
    },
    {
      "cell_type": "code",
      "execution_count": null,
      "metadata": {
        "colab": {
          "base_uri": "https://localhost:8080/"
        },
        "id": "XV8rC_8NGoIC",
        "outputId": "15e134d0-661e-41d0-9ab4-072006f3f9e7"
      },
      "outputs": [
        {
          "output_type": "stream",
          "name": "stdout",
          "text": [
            "Downloading https://www.cs.toronto.edu/~kriz/cifar-10-python.tar.gz to ./cifar-10-python.tar.gz\n"
          ]
        },
        {
          "output_type": "stream",
          "name": "stderr",
          "text": [
            "100%|██████████| 170498071/170498071 [00:13<00:00, 12223906.71it/s]\n"
          ]
        },
        {
          "output_type": "stream",
          "name": "stdout",
          "text": [
            "Extracting ./cifar-10-python.tar.gz to ./\n",
            "CIFAR: torch.Size([1, 3072])\n",
            "CIFAR: (50000, 32, 32, 3)\n",
            "Files already downloaded and verified\n",
            "CIFAR: torch.Size([1, 3072])\n",
            "CIFAR: (10000, 32, 32, 3)\n",
            "Downloading http://ai.stanford.edu/~acoates/stl10/stl10_binary.tar.gz to ./stl10_binary.tar.gz\n"
          ]
        },
        {
          "output_type": "stream",
          "name": "stderr",
          "text": [
            "100%|██████████| 2640397119/2640397119 [02:46<00:00, 15836154.25it/s]\n"
          ]
        },
        {
          "output_type": "stream",
          "name": "stdout",
          "text": [
            "Extracting ./stl10_binary.tar.gz to ./\n"
          ]
        },
        {
          "output_type": "stream",
          "name": "stderr",
          "text": [
            "/usr/local/lib/python3.10/dist-packages/torchvision/transforms/functional.py:1603: UserWarning: The default value of the antialias parameter of all the resizing transforms (Resize(), RandomResizedCrop(), etc.) will change from None to True in v0.17, in order to be consistent across the PIL and Tensor backends. To suppress this warning, directly pass antialias=True (recommended, future default), antialias=None (current default, which means False for Tensors and True for PIL), or antialias=False (only works on Tensors - PIL will still use antialiasing). This also applies if you are using the inference transforms from the models weights: update the call to weights.transforms(antialias=True).\n",
            "  warnings.warn(\n"
          ]
        },
        {
          "output_type": "stream",
          "name": "stdout",
          "text": [
            "STL10: torch.Size([1, 3072])\n",
            "STL10: (5000, 3, 96, 96)\n",
            "Downloading http://ufldl.stanford.edu/housenumbers/train_32x32.mat to ./train_32x32.mat\n"
          ]
        },
        {
          "output_type": "stream",
          "name": "stderr",
          "text": [
            "100%|██████████| 182040794/182040794 [00:15<00:00, 11802797.68it/s]\n"
          ]
        },
        {
          "output_type": "stream",
          "name": "stdout",
          "text": [
            "SVHN: torch.Size([1, 3072])\n",
            "SVHN: (73257, 3, 32, 32)\n"
          ]
        }
      ],
      "source": [
        "\n",
        "import torchvision\n",
        "import torchvision.datasets as data\n",
        "import torchvision.transforms as Transforms\n",
        "\n",
        "Tflatten = Transforms.Lambda(lambda x: torch.flatten(x))\n",
        "Tcuda = Transforms.Lambda(lambda x: x.to(\"cuda\"))\n",
        "Tfloat = Transforms.Lambda(lambda x: x.to(torch.float))\n",
        "\n",
        "T = Transforms.Compose([Transforms.ToTensor(), Tfloat, Tflatten, Tcuda])\n",
        "cifar_train = data.CIFAR10(\"./\", train = True, download = True, transform=T)\n",
        "cifar_dataloader = torch.utils.data.DataLoader(cifar_train)\n",
        "print(\"CIFAR:\", next(iter(cifar_dataloader))[0].shape)\n",
        "print(\"CIFAR:\", cifar_train.data.shape)\n",
        "\n",
        "T = Transforms.Compose([Transforms.ToTensor(), Tfloat, Transforms.Normalize(mean = [0,0,0], std = [5,5,5]), Tflatten, Tcuda])\n",
        "cifar_test = data.CIFAR10(\"./\", train = False, download = True, transform=T)\n",
        "cifar_dataloader = torch.utils.data.DataLoader(cifar_test)\n",
        "print(\"CIFAR:\", next(iter(cifar_dataloader))[0].shape)\n",
        "print(\"CIFAR:\", cifar_test.data.shape)\n",
        "\n",
        "T = Transforms.Compose([Transforms.ToTensor(), Transforms.Resize((32,32)), Tfloat, Transforms.Normalize(mean = [0,0,0], std = [5,5,5]), Tflatten, Tcuda])\n",
        "stl10_train = data.STL10(\"./\", split = 'train', download = True, transform=T)\n",
        "stl10_dataloader = torch.utils.data.DataLoader(stl10_train)\n",
        "print(\"STL10:\", next(iter(stl10_dataloader))[0].shape)\n",
        "print(\"STL10:\", stl10_train.data.shape)\n",
        "\n",
        "\n",
        "T = Transforms.Compose([Transforms.ToTensor(), Tfloat, Transforms.Normalize(mean = [0,0,0], std = [5,5,5]), Tflatten, Tcuda])\n",
        "svhn_train = data.SVHN(\"./\", split = 'train', download = True, transform=T)\n",
        "svhn_dataloader = torch.utils.data.DataLoader(svhn_train)\n",
        "print(\"SVHN:\", next(iter(svhn_dataloader))[0].shape)\n",
        "print(\"SVHN:\", svhn_train.data.shape)\n"
      ]
    },
    {
      "cell_type": "code",
      "execution_count": null,
      "metadata": {
        "colab": {
          "base_uri": "https://localhost:8080/"
        },
        "id": "JON3kLecZc0F",
        "outputId": "4d8ca74a-4fb1-49a6-889a-0c70d40abceb"
      },
      "outputs": [
        {
          "name": "stdout",
          "output_type": "stream",
          "text": [
            "Files already downloaded and verified\n",
            "STL10: torch.Size([1, 3072])\n",
            "STL10: (8000, 3, 96, 96)\n"
          ]
        }
      ],
      "source": [
        "T = Transforms.Compose([Transforms.ToTensor(), Transforms.Resize((32,32)), Tfloat, Transforms.Normalize(mean = [0,0,0], std = [5,5,5]), Tflatten, Tcuda])\n",
        "stl10_test = data.STL10(\"./\", split = 'test', download = True, transform=T)\n",
        "stl10_dataloader = torch.utils.data.DataLoader(stl10_test)\n",
        "print(\"STL10:\", next(iter(stl10_dataloader))[0].shape)\n",
        "print(\"STL10:\", stl10_test.data.shape)"
      ]
    },
    {
      "cell_type": "code",
      "execution_count": null,
      "metadata": {
        "id": "SsUrJmVXGo2z"
      },
      "outputs": [],
      "source": [
        "def eigen_squared(cr, z):\n",
        "  num = z * cr ** 2 + cr ** 2 + z * cr - 2*cr + 1\n",
        "  den = 2*z**2*cr * np.sqrt(4*z*cr**2 + (1-cr + cr*z)**2)\n",
        "  return num/den + (1-1/cr)/(2*z**2)\n",
        "\n",
        "def scale(cr,z):\n",
        "  return 0.5 + (1+z*cr-np.sqrt(4*z*cr**2 + (1-cr + cr*z)**2))/(2*cr)\n",
        "\n",
        "def scale_squared(cr,z):\n",
        "  return -0.5 + (1+cr+z*cr)/(2*np.sqrt(4*z*cr**2 + (1-cr + cr*z)**2))\n",
        "\n",
        "def scale_both_squared(cr,z):\n",
        "  return scale(cr,z) - z*scale_squared(cr,z)\n",
        "\n",
        "def var(c,r,d,N):\n",
        "  cr = r/N\n",
        "  if c < 1:\n",
        "    return r * (scale_both_squared(cr, 1/c) + scale_squared(cr,1/c))/(d*(1-c))\n",
        "  else:\n",
        "    return r * c * scale(cr,1) / (d*(c-1))\n",
        "\n",
        "def calc_gen_error_new(M,ntrn,c,ntst,r,S1,L):\n",
        "  gen_error = 0\n",
        "  if c<1:\n",
        "    gen_error += (torch.diag(1/(1+S1**2*c)) @ L).square().sum()/L.shape[1]\n",
        "  if c>1:\n",
        "    gen_error += (torch.diag(1/(1+S1**2)) @ L).square().sum()/L.shape[1]\n",
        "\n",
        "  return gen_error + var(c,r,M,ntrn)\n",
        "\n",
        "# Cov might need to be diagonal....\n",
        "def calc_gen_error_new_new(M,ntrn,c,ntst,r,S1,Cov):\n",
        "  gen_error = 0\n",
        "  if c<1:\n",
        "    gen_error += eigen_squared(r/ntrn, 1/c) * (Cov).square().sum()/(c**2)\n",
        "  if c>1:\n",
        "    gen_error += eigen_squared(r/ntrn, 1) * (Cov).square().sum()\n",
        "\n",
        "  return gen_error + var(c,r,M,ntrn)\n",
        "\n",
        "def calc_gen_error(M,ntrn,c,ntst,r,S1,L):\n",
        "  gen_error = 0\n",
        "  if c<1:\n",
        "    gen_error += (torch.diag(1/(1+S1**2*c)) @ L).square().sum()/L.shape[1]\n",
        "  if c>1:\n",
        "    gen_error += (torch.diag(1/(1+S1**2)) @ L).square().sum()/L.shape[1]\n",
        "  \n",
        "  gen_error += calc_wnorm(c,r,S1)/M\n",
        "\n",
        "  return gen_error \n",
        "\n",
        "def calc_gen_error_regression(M,ntrn,c,ntst,r,S1,L,betahat):\n",
        "  gen_error = 0\n",
        "  if c<1:\n",
        "    gen_error += (betahat.T @ torch.diag(1/(1+S1**2*c)) @ L).square().sum()/L.shape[1]\n",
        "  if c>1:\n",
        "    gen_error += (betahat.T @ torch.diag(1/(1+S1**2)) @ L).square().sum()/L.shape[1]\n",
        "  \n",
        "  gen_error += calc_wnorm_regression(c,r,S1,betahat)/M\n",
        "\n",
        "  return gen_error \n",
        "\n",
        "def calc_lower_bound(M,ntrn,c,ntst,r,S1,L,alpha):\n",
        "  wnorm_root = calc_wnorm(c,r,S1).sqrt()\n",
        "  if c<1:\n",
        "    bias = (torch.diag(1/(1+S1**2*c)) @ L).square().sum().sqrt()\n",
        "  if c>1:\n",
        "    bias = (torch.diag(1/(1+S1**2)) @ L).square().sum().sqrt()\n",
        "  \n",
        "  bias = (bias-alpha*(wnorm_root+1))**2/L.shape[0]\n",
        "\n",
        "  return bias + wnorm_root.square()/M\n",
        "\n",
        "def calc_upper_bound(M,ntrn,c,ntst,r,S1,L,alpha):\n",
        "  wnorm_root = calc_wnorm(c,r,S1).sqrt()\n",
        "  if c<1:\n",
        "    bias = (torch.diag(1/(1+S1**2*c)) @ L).square().sum().sqrt()\n",
        "  if c>1:\n",
        "    bias = (torch.diag(1/(1+S1**2)) @  L).square().sum().sqrt()\n",
        "  \n",
        "  bias = (bias+alpha*(wnorm_root+1))**2/L.shape[0]\n",
        "\n",
        "  return bias + wnorm_root.square()/M\n",
        "\n",
        "def calc_W_minus_I_norm(c,r,S1,M):\n",
        "  wnorm = 0\n",
        "  if c<1:\n",
        "    for i in range(1):\n",
        "      wnorm = wnorm +  (((c**2*(S1[i]**2 + S1[i]**4))/((1+S1[i]**2*c)**2*(1-c))).sqrt()+1)**2\n",
        "  if c>1:\n",
        "    for i in range(1):\n",
        "      wnorm = wnorm +  (((c*S1[i]**2)/((1+S1[i]**2)*(c-1))).sqrt()+1).square()\n",
        "  return wnorm\n",
        "\n",
        "def calc_wnorm(c,r,S1):\n",
        "  wnorm = 0\n",
        "  if c<1:\n",
        "    for i in range(r):\n",
        "      wnorm = wnorm +  ((S1[i]**2 + S1[i]**4))/((1/c+S1[i]**2)**2*(1-c))\n",
        "  if c>1:\n",
        "    for i in range(r):\n",
        "      wnorm = wnorm +  (c*S1[i]**2)/((1+S1[i]**2)*(c-1))\n",
        "\n",
        "  return wnorm \n",
        "\n",
        "def calc_wnorm_regression(c,r,S1,betahat):\n",
        "  wnorm = 0\n",
        "  if c<1:\n",
        "    for i in range(r):\n",
        "      wnorm = wnorm +  betahat[i,0]**2 * (c**2*(S1[i]**2 + S1[i]**4))/((1+S1[i]**2*c)**2*(1-c))\n",
        "  if c>1:\n",
        "    for i in range(r):\n",
        "      wnorm = wnorm +  betahat[i,0]**2 * (c*S1[i]**2)/((1+S1[i]**2)*(c-1))\n",
        "\n",
        "  return wnorm"
      ]
    },
    {
      "cell_type": "code",
      "execution_count": null,
      "metadata": {
        "id": "DCZ8EvSwcEOZ"
      },
      "outputs": [],
      "source": [
        "path1_rank = F\"/content/drive/MyDrive/Denoising/dataRanks/\"\n",
        "path2_rank = F\"/content/drive/MyDrive/Denoising/dataRanks/\""
      ]
    },
    {
      "cell_type": "code",
      "execution_count": null,
      "metadata": {
        "colab": {
          "base_uri": "https://localhost:8080/"
        },
        "id": "Pr5G77loIOrv",
        "outputId": "4e2bea7e-4fb9-4c02-9d5a-16d1ae5ac277"
      },
      "outputs": [
        {
          "output_type": "stream",
          "name": "stdout",
          "text": [
            "50\n",
            "torch.Size([3072, 1050]) torch.Size([3072, 2500])\n",
            "tensor(2.9257, device='cuda:0')\n",
            "torch.Size([3072, 1600]) torch.Size([3072, 2500])\n",
            "tensor(1.9200, device='cuda:0')\n",
            "torch.Size([3072, 2150]) torch.Size([3072, 2500])\n",
            "tensor(1.4288, device='cuda:0')\n",
            "torch.Size([3072, 2700]) torch.Size([3072, 2500])\n",
            "tensor(1.1378, device='cuda:0')\n",
            "torch.Size([3072, 3250]) torch.Size([3072, 2500])\n",
            "tensor(0.9452, device='cuda:0')\n",
            "torch.Size([3072, 3800]) torch.Size([3072, 2500])\n",
            "tensor(0.8084, device='cuda:0')\n",
            "torch.Size([3072, 4350]) torch.Size([3072, 2500])\n",
            "tensor(0.7062, device='cuda:0')\n",
            "torch.Size([3072, 4900]) torch.Size([3072, 2500])\n",
            "tensor(0.6269, device='cuda:0')\n",
            "torch.Size([3072, 5450]) torch.Size([3072, 2500])\n",
            "tensor(0.5637, device='cuda:0')\n",
            "torch.Size([3072, 6000]) torch.Size([3072, 2500])\n",
            "tensor(0.5120, device='cuda:0')\n",
            "torch.Size([3072, 6550]) torch.Size([3072, 2500])\n",
            "tensor(0.4690, device='cuda:0')\n",
            "torch.Size([3072, 7100]) torch.Size([3072, 2500])\n",
            "tensor(0.4327, device='cuda:0')\n",
            "torch.Size([3072, 7650]) torch.Size([3072, 2500])\n",
            "tensor(0.4016, device='cuda:0')\n",
            "torch.Size([3072, 8200]) torch.Size([3072, 2500])\n",
            "tensor(0.3746, device='cuda:0')\n",
            "torch.Size([3072, 8750]) torch.Size([3072, 2500])\n",
            "tensor(0.3511, device='cuda:0')\n",
            "torch.Size([3072, 9300]) torch.Size([3072, 2500])\n",
            "tensor(0.3303, device='cuda:0')\n",
            "torch.Size([3072, 9850]) torch.Size([3072, 2500])\n",
            "tensor(0.3119, device='cuda:0')\n",
            "torch.Size([3072, 10400]) torch.Size([3072, 2500])\n",
            "tensor(0.2954, device='cuda:0')\n",
            "100\n",
            "torch.Size([3072, 1050]) torch.Size([3072, 2500])\n",
            "tensor(2.9257, device='cuda:0')\n",
            "torch.Size([3072, 1600]) torch.Size([3072, 2500])\n",
            "tensor(1.9200, device='cuda:0')\n",
            "torch.Size([3072, 2150]) torch.Size([3072, 2500])\n",
            "tensor(1.4288, device='cuda:0')\n",
            "torch.Size([3072, 2700]) torch.Size([3072, 2500])\n",
            "tensor(1.1378, device='cuda:0')\n",
            "torch.Size([3072, 3250]) torch.Size([3072, 2500])\n",
            "tensor(0.9452, device='cuda:0')\n",
            "torch.Size([3072, 3800]) torch.Size([3072, 2500])\n",
            "tensor(0.8084, device='cuda:0')\n",
            "torch.Size([3072, 4350]) torch.Size([3072, 2500])\n",
            "tensor(0.7062, device='cuda:0')\n",
            "torch.Size([3072, 4900]) torch.Size([3072, 2500])\n",
            "tensor(0.6269, device='cuda:0')\n",
            "torch.Size([3072, 5450]) torch.Size([3072, 2500])\n",
            "tensor(0.5637, device='cuda:0')\n",
            "torch.Size([3072, 6000]) torch.Size([3072, 2500])\n",
            "tensor(0.5120, device='cuda:0')\n",
            "torch.Size([3072, 6550]) torch.Size([3072, 2500])\n",
            "tensor(0.4690, device='cuda:0')\n",
            "torch.Size([3072, 7100]) torch.Size([3072, 2500])\n",
            "tensor(0.4327, device='cuda:0')\n",
            "torch.Size([3072, 7650]) torch.Size([3072, 2500])\n",
            "tensor(0.4016, device='cuda:0')\n",
            "torch.Size([3072, 8200]) torch.Size([3072, 2500])\n",
            "tensor(0.3746, device='cuda:0')\n",
            "torch.Size([3072, 8750]) torch.Size([3072, 2500])\n",
            "tensor(0.3511, device='cuda:0')\n",
            "torch.Size([3072, 9300]) torch.Size([3072, 2500])\n",
            "tensor(0.3303, device='cuda:0')\n",
            "torch.Size([3072, 9850]) torch.Size([3072, 2500])\n",
            "tensor(0.3119, device='cuda:0')\n",
            "torch.Size([3072, 10400]) torch.Size([3072, 2500])\n",
            "tensor(0.2954, device='cuda:0')\n"
          ]
        }
      ],
      "source": [
        "##store more r values for pcr in subspace, out of subspace for small alpha, linear regression, iid test \n",
        "\n",
        "from numpy.lib.arraysetops import setxor1d\n",
        "## Low SNR error \n",
        "\n",
        "M = 3072\n",
        "N = torch.arange(1050,10500,550).to(torch.int)\n",
        "#N = torch.arange(7100,10500,550).to(torch.int)\n",
        "#r_values = [1,2,3,5,10,20,50,100,150,200,250]\n",
        "# r_values = [50]\n",
        "r_values = [50,100]\n",
        "\n",
        "#r_values = [100]\n",
        "# N = torch.arange(500,1000,500)\n",
        "# r_values = [1,100]\n",
        "Ntst = 2500\n",
        "\n",
        "##pcr in subspace\n",
        "Err_stl10 = torch.zeros(len(r_values),N.shape[0]).to(device) #theoretical error\n",
        "Err_emp_stl10 = torch.zeros(len(r_values),N.shape[0]).to(device) #emperical error \n",
        "\n",
        "Err_svhn = torch.zeros(len(r_values),N.shape[0]).to(device) #theoretical error\n",
        "Err_emp_svhn = torch.zeros(len(r_values),N.shape[0]).to(device) #emperical error \n",
        "\n",
        "Err_cifar = torch.zeros(len(r_values),N.shape[0]).to(device) #theoretical error\n",
        "Err_emp_cifar = torch.zeros(len(r_values),N.shape[0]).to(device) #emperical error \n",
        "\n",
        "##pcr out of subspace at alpha = 0.1 \n",
        "\n",
        "\n",
        "alpha_cifar = 0.1*torch.ones(len(r_values),N.shape[0]).to(device)\n",
        "alpha_stl10 = 0.1*torch.ones(len(r_values),N.shape[0]).to(device)\n",
        "alpha_svhn = 0.1*torch.ones(len(r_values),N.shape[0]).to(device)\n",
        "\n",
        "Err_stl10_bound = torch.zeros(len(r_values),N.shape[0]).to(device) #theoretical error\n",
        "Err_stl10_alpha = torch.zeros(len(r_values),N.shape[0]).to(device) #theoretical error\n",
        "Err_emp_stl10_alpha = torch.zeros(len(r_values),N.shape[0]).to(device) #emperical error \n",
        "\n",
        "Err_svhn_alpha = torch.zeros(len(r_values),N.shape[0]).to(device) #theoretical error\n",
        "Err_svhn_bound = torch.zeros(len(r_values),N.shape[0]).to(device) #theoretical error\n",
        "Err_emp_svhn_alpha = torch.zeros(len(r_values),N.shape[0]).to(device) #emperical error \n",
        "\n",
        "Err_cifar_bound = torch.zeros(len(r_values),N.shape[0]).to(device) #theoretical error\n",
        "Err_cifar_alpha = torch.zeros(len(r_values),N.shape[0]).to(device) #theoretical error\n",
        "Err_emp_cifar_alpha = torch.zeros(len(r_values),N.shape[0]).to(device) #emperical error \n",
        "\n",
        "##pcr out of subspace (outss)\n",
        "Err_stl10_bound_outss = torch.zeros(len(r_values),N.shape[0]).to(device) #theoretical bound\n",
        "Err_stl10_outss = torch.zeros(len(r_values),N.shape[0]).to(device) #theoretical error\n",
        "Err_emp_stl10_outss = torch.zeros(len(r_values),N.shape[0]).to(device) #emperical error \n",
        "\n",
        "Err_svhn_outss = torch.zeros(len(r_values),N.shape[0]).to(device) #theoretical error\n",
        "Err_svhn_bound_outss = torch.zeros(len(r_values),N.shape[0]).to(device) #theoretical error\n",
        "Err_emp_svhn_outss = torch.zeros(len(r_values),N.shape[0]).to(device) #emperical error \n",
        "\n",
        "Err_cifar_bound_outss = torch.zeros(len(r_values),N.shape[0]).to(device) #theoretical error\n",
        "Err_cifar_outss = torch.zeros(len(r_values),N.shape[0]).to(device) #theoretical error\n",
        "Err_emp_cifar_outss = torch.zeros(len(r_values),N.shape[0]).to(device) #emperical error \n",
        "\n",
        "\n",
        "##iid-test data \n",
        "\n",
        "\n",
        "Err_iid_test = torch.zeros(len(r_values),N.shape[0]).to(device) #theoretical error\n",
        "Err_emp_iid_test = torch.zeros(len(r_values),N.shape[0]).to(device) #emperical error \n",
        "\n",
        "##linear regression\n",
        "Err_stl10_reg = torch.zeros(len(r_values),N.shape[0]).to(device) #theoretical error\n",
        "Err_emp_stl10_reg = torch.zeros(len(r_values),N.shape[0]).to(device) #emperical error \n",
        "\n",
        "Err_svhn_reg = torch.zeros(len(r_values),N.shape[0]).to(device) #theoretical error\n",
        "Err_emp_svhn_reg = torch.zeros(len(r_values),N.shape[0]).to(device) #emperical error \n",
        "\n",
        "Err_cifar_reg = torch.zeros(len(r_values),N.shape[0]).to(device) #theoretical error\n",
        "Err_emp_cifar_reg = torch.zeros(len(r_values),N.shape[0]).to(device) #emperical error \n",
        "\n",
        "beta = torch.randn(M,1)\n",
        "beta /= torch.norm(beta)\n",
        "\n",
        "T = 200 #Number of runs\n",
        "\n",
        "for i,r in list(enumerate(r_values)):\n",
        "  print(r)\n",
        "  for j in range(N.shape[0]):\n",
        "    c = M/N[j]\n",
        "    cifar_train_data = torch.utils.data.DataLoader(cifar_train, batch_size = N[j].item(), shuffle = False)\n",
        "    Xtrn = next(iter(cifar_train_data))[0].T\n",
        "\n",
        "    cifar_test_data = torch.utils.data.DataLoader(cifar_test, batch_size = Ntst, shuffle = False)\n",
        "    Xtst_cifar = next(iter(cifar_test_data))[0].T\n",
        "\n",
        "    stl10_data = torch.utils.data.DataLoader(stl10_train, batch_size = Ntst, shuffle = False)\n",
        "    Xtst_stl10 = next(iter(stl10_data))[0].T\n",
        "\n",
        "    svhn_data = torch.utils.data.DataLoader(svhn_train, batch_size = Ntst, shuffle = False)\n",
        "    Xtst_svhn = next(iter(svhn_data))[0].T\n",
        "\n",
        "    print(Xtrn.shape, Xtst_cifar.shape)\n",
        "\n",
        "    print(c)\n",
        "    U,S,Vh = torch.linalg.svd(Xtrn)\n",
        "    Xtrn = U[:,:r] @ torch.diag(S[:r]) @ Vh[:r,:]\n",
        "\n",
        "    P = U[:,:r] @ U[:,:r].T\n",
        "\n",
        "    Xtst_cifar_proj = P @ Xtst_cifar\n",
        "    Xtst_stl10_proj = P @ Xtst_stl10\n",
        "    Xtst_svhn_proj = P @ Xtst_svhn\n",
        "\n",
        "    L_cifar = U[:,:r].T @ Xtst_cifar\n",
        "    L_stl10 = U[:,:r].T @ Xtst_stl10\n",
        "    L_svhn = U[:,:r].T @ Xtst_svhn\n",
        "\n",
        "    ##pcr in subspace \n",
        "    # Err_cifar[i,j] = calc_gen_error(M,N[j],c,Ntst,r,S[:r],L_cifar)\n",
        "    # Err_stl10[i,j] = calc_gen_error(M,N[j],c,Ntst,r,S[:r],L_stl10)\n",
        "    # Err_svhn[i,j] = calc_gen_error(M,N[j],c,Ntst,r,S[:r],L_svhn)\n",
        "\n",
        "    ##pcr out of subspace for alpha = 0.1\n",
        "    # Xtst_cifar_alpha = Xtst_cifar_proj + 0.1*torch.randn_like(Xtst_cifar)/np.sqrt(M*Ntst)\n",
        "    # Xtst_stl10_alpha = Xtst_stl10_proj + 0.1*torch.randn_like(Xtst_stl10)/np.sqrt(M*Ntst)\n",
        "    # Xtst_svhn_alpha = Xtst_svhn_proj + 0.1*torch.randn_like(Xtst_svhn)/np.sqrt(M*Ntst)\n",
        "\n",
        "    # Err_cifar_bound[i,j] = alpha_cifar[i,j]**2 * calc_W_minus_I_norm(c,r,S[:r],M)/Ntst\n",
        "    # Err_stl10_bound[i,j] = alpha_stl10[i,j]**2 * calc_W_minus_I_norm(c,r,S[:r],M)/Ntst\n",
        "    # Err_svhn_bound[i,j] = alpha_svhn[i,j]**2 * calc_W_minus_I_norm(c,r,S[:r],M)/Ntst\n",
        "\n",
        "    # Err_cifar_alpha[i,j] = calc_gen_error(M,N[j],c,Ntst,r,S[:r],L_cifar)\n",
        "    # Err_stl10_alpha[i,j] = calc_gen_error(M,N[j],c,Ntst,r,S[:r],L_stl10)\n",
        "    # Err_svhn_alpha[i,j] = calc_gen_error(M,N[j],c,Ntst,r,S[:r],L_svhn)\n",
        "\n",
        "    ## pcr out of subspace for large alpha\n",
        "    alpha_cifar[i,j] = (Xtst_cifar_proj - Xtst_cifar).square().sum().sqrt()\n",
        "    alpha_stl10[i,j] = (Xtst_stl10_proj - Xtst_stl10).square().sum().sqrt()\n",
        "    alpha_svhn[i,j] = (Xtst_svhn_proj - Xtst_svhn).square().sum().sqrt()\n",
        "\n",
        "    # Err_cifar_bound_outss[i,j] = alpha_cifar[i,j]**2 * calc_W_minus_I_norm(c,r,S[:r],M)/Ntst\n",
        "    # Err_stl10_bound_outss[i,j] = alpha_stl10[i,j]**2 * calc_W_minus_I_norm(c,r,S[:r],M)/Ntst\n",
        "    # Err_svhn_bound_outss[i,j] = alpha_svhn[i,j]**2 * calc_W_minus_I_norm(c,r,S[:r],M)/Ntst\n",
        "\n",
        "    # Err_cifar_outss[i,j] = calc_gen_error(M,N[j],c,Ntst,r,S[:r],L_cifar)\n",
        "    # Err_stl10_outss[i,j] = calc_gen_error(M,N[j],c,Ntst,r,S[:r],L_stl10)\n",
        "    # Err_svhn_outss[i,j] = calc_gen_error(M,N[j],c,Ntst,r,S[:r],L_svhn)\n",
        "\n",
        "\n",
        "    # ##iid test data\n",
        "    # Cov_root = torch.randn(r,r)/np.sqrt(r)\n",
        "\n",
        "    # L = Cov_root @ torch.randn(r,Ntst)/np.sqrt(r)\n",
        "    # Ul, Sl, _ = torch.linalg.svd(L)\n",
        "\n",
        "    # Xtst = U[:,:r] @ L\n",
        "\n",
        "    # Err_iid_test[i,j] = calc_gen_error(M,N[j],c,Ntst,r,S[:r],Cov_root @ torch.eye(r)*np.sqrt(Ntst/r))\n",
        "\n",
        "    # ##linear regression \n",
        "    # betahat = (beta.T @ U[:,:r]).T\n",
        "\n",
        "    # Err_cifar_reg[i,j] = calc_gen_error_regression(M,N[j],c,Ntst,r,S[:r],L_cifar, betahat)\n",
        "    # Err_stl10_reg[i,j] = calc_gen_error_regression(M,N[j],c,Ntst,r,S[:r],L_stl10, betahat)\n",
        "    # Err_svhn_reg[i,j] = calc_gen_error_regression(M,N[j],c,Ntst,r,S[:r],L_svhn, betahat)\n",
        "\n",
        "    # for k in tqdm(range(T)):\n",
        "    #     Atrn = torch.randn_like(Xtrn)/np.sqrt(M)\n",
        "    #     W = Xtrn.mm(torch.pinverse(Xtrn+Atrn))\n",
        "\n",
        "    #     ## PCR in subspace \n",
        "\n",
        "    #     Atst_cifar = torch.randn_like(Xtst_cifar_proj)/np.sqrt(M)\n",
        "    #     Yp = W.mm(Xtst_cifar_proj + Atst_cifar)\n",
        "    #     Err_emp_cifar[i,j] += (Xtst_cifar_proj - Yp).square().sum()/(T*Ntst)\n",
        "\n",
        "    #     Atst_stl10 = torch.randn_like(Xtst_stl10_proj)/np.sqrt(M)\n",
        "    #     Yp = W.mm(Xtst_stl10_proj + Atst_stl10)\n",
        "    #     Err_emp_stl10[i,j] += (Xtst_stl10_proj - Yp).square().sum()/(T*Ntst)\n",
        "\n",
        "    #     Atst_svhn = torch.randn_like(Xtst_svhn_proj)/np.sqrt(M)\n",
        "    #     Yp = W.mm(Xtst_svhn_proj + Atst_svhn)\n",
        "    #     Err_emp_svhn[i,j] += (Xtst_svhn_proj - Yp).square().sum()/(T*Ntst)\n",
        "\n",
        "    #     ##pcr out of subspace at alpha = 0.1 \n",
        "    #     Atst_cifar = torch.randn_like(Xtst_cifar_proj)/np.sqrt(M)\n",
        "    #     Yp = W.mm(Xtst_cifar_alpha + Atst_cifar)\n",
        "    #     Err_emp_cifar_alpha[i,j] += (Xtst_cifar_alpha - Yp).square().sum()/(T*Ntst)\n",
        "\n",
        "    #     Atst_stl10 = torch.randn_like(Xtst_stl10_proj)/np.sqrt(M)\n",
        "    #     Yp = W.mm(Xtst_stl10_alpha + Atst_stl10)\n",
        "    #     Err_emp_stl10_alpha[i,j] += (Xtst_stl10_alpha - Yp).square().sum()/(T*Ntst)\n",
        "\n",
        "    #     Atst_svhn = torch.randn_like(Xtst_svhn_proj)/np.sqrt(M)\n",
        "    #     Yp = W.mm(Xtst_svhn_alpha + Atst_svhn)\n",
        "    #     Err_emp_svhn_alpha[i,j] += (Xtst_svhn_alpha - Yp).square().sum()/(T*Ntst)\n",
        "\n",
        "    #     ##pcr out of subspace for large alpha\n",
        "    #     Atst_cifar = torch.randn_like(Xtst_cifar)/np.sqrt(M)\n",
        "    #     Yp = W.mm(Xtst_cifar + Atst_cifar)\n",
        "    #     Err_emp_cifar_outss[i,j] += (Xtst_cifar - Yp).square().sum()/(T*Ntst)\n",
        "\n",
        "    #     Atst_stl10 = torch.randn_like(Xtst_stl10_proj)/np.sqrt(M)\n",
        "    #     Yp = W.mm(Xtst_stl10 + Atst_stl10)\n",
        "    #     Err_emp_stl10_outss[i,j] += (Xtst_stl10 - Yp).square().sum()/(T*Ntst)\n",
        "\n",
        "    #     Atst_svhn = torch.randn_like(Xtst_svhn_proj)/np.sqrt(M)\n",
        "    #     Yp = W.mm(Xtst_svhn + Atst_svhn)\n",
        "    #     Err_emp_svhn_outss[i,j] += (Xtst_svhn - Yp).square().sum()/(T*Ntst)\n",
        "\n",
        "    #     ##iid test data\n",
        "    #     Atst = torch.randn_like(Xtst)/np.sqrt(M)\n",
        "    #     Yp = W.mm(Xtst + Atst)\n",
        "    #     Err_emp_iid_test[i,j] += (Xtst - Yp).square().sum()/(T*Ntst)\n",
        "\n",
        "    #     ##linear regression\n",
        "    #     W = beta.T @ W\n",
        "    #     Atst_cifar = torch.randn_like(Xtst_cifar_proj)/np.sqrt(M)\n",
        "    #     Yp = W.mm(Xtst_cifar_proj + Atst_cifar)\n",
        "    #     Err_emp_cifar_reg[i,j] += (beta.T @ Xtst_cifar_proj - Yp).square().sum()/(T*Ntst)\n",
        "\n",
        "    #     Atst_stl10 = torch.randn_like(Xtst_stl10_proj)/np.sqrt(M)\n",
        "    #     Yp = W.mm(Xtst_stl10_proj + Atst_stl10)\n",
        "    #     Err_emp_stl10_reg[i,j] += (beta.T @ Xtst_stl10_proj - Yp).square().sum()/(T*Ntst)\n",
        "\n",
        "    #     Atst_svhn = torch.randn_like(Xtst_svhn_proj)/np.sqrt(M)\n",
        "    #     Yp = W.mm(Xtst_svhn_proj + Atst_svhn)\n",
        "    #     Err_emp_svhn_reg[i,j] += (beta.T @ Xtst_svhn_proj - Yp).square().sum()/(T*Ntst)\n",
        "\n",
        "    # # print(wnorm, bias)\n",
        "    # # print(emp_norm, emp_bias)\n",
        "    \n",
        "    # # print((Err_emp_cifar[i,j]-Err_cifar[i,j]).abs()/Err_emp_cifar[i,j])\n",
        "    # # print((Err_emp_stl10[i,j]-Err_stl10[i,j]).abs()/Err_emp_stl10[i,j])\n",
        "    # # print((Err_emp_svhn[i,j]-Err_svhn[i,j]).abs()/Err_emp_svhn[i,j])\n",
        "\n",
        "    # # torch.save(Err_emp_cifar,path2_rank+\"cifar-emp-ranks.pt\")\n",
        "    # # torch.save(Err_cifar,path1_rank+\"cifar-ranks.pt\")  \n",
        "    # # torch.save(Err_emp_stl10,path2_rank+\"stl10-emp-ranks.pt\")\n",
        "    # # torch.save(Err_stl10,path1_rank+\"stl10-ranks.pt\")  \n",
        "    # # torch.save(Err_emp_svhn,path2_rank+\"svhn-emp-ranks.pt\")\n",
        "    # # torch.save(Err_svhn,path1_rank+\"svhn-ranks.pt\")    \n",
        "\n",
        "    # # torch.save(Err_emp_cifar_alpha,path2_rank+\"cifar-emp-alpha-ranks.pt\")\n",
        "    # # torch.save(Err_cifar_alpha,path1_rank+\"cifar-alpha-ranks.pt\")  \n",
        "    # # torch.save(Err_cifar_bound,path1_rank+\"cifar-bound-ranks.pt\")  \n",
        "    # # torch.save(Err_emp_stl10_alpha,path2_rank+\"stl10-emp-alpha-ranks.pt\")\n",
        "    # # torch.save(Err_stl10_alpha,path1_rank+\"stl10-alpha-ranks.pt\")  \n",
        "    # # torch.save(Err_stl10_bound,path1_rank+\"stl10-bound-ranks.pt\")  \n",
        "    # # torch.save(Err_emp_svhn_alpha,path2_rank+\"svhn-emp-alpha-ranks.pt\")\n",
        "    # # torch.save(Err_svhn_alpha,path1_rank+\"svhn-alpha-ranks.pt\")  \n",
        "    # # torch.save(Err_svhn_bound,path1_rank+\"svhn-bound-ranks.pt\")   \n",
        "\n",
        "    # # torch.save(Err_emp_cifar_outss,path2_rank+\"cifar-emp-outss-ranks.pt\")\n",
        "    # # torch.save(Err_cifar_outss,path1_rank+\"cifar-outss-ranks.pt\")  \n",
        "    # # torch.save(Err_cifar_bound_outss,path1_rank+\"cifar-bound-outss-ranks.pt\")  \n",
        "    # # torch.save(Err_emp_stl10_outss,path2_rank+\"stl10-emp-outss-ranks.pt\")\n",
        "    # # torch.save(Err_stl10_outss,path1_rank+\"stl10-outss-ranks.pt\")  \n",
        "    # # torch.save(Err_stl10_bound_outss,path1_rank+\"stl10-bound-outss-ranks.pt\")  \n",
        "    # # torch.save(Err_emp_svhn_outss,path2_rank+\"svhn-emp-outss-ranks.pt\")\n",
        "    # # torch.save(Err_svhn_outss,path1_rank+\"svhn-outss-ranks.pt\")  \n",
        "    # # torch.save(Err_svhn_bound_outss,path1_rank+\"svhn-bound-outss-ranks.pt\") \n",
        "\n",
        "    # # torch.save(Err_emp_iid_test,path2_rank+\"emp-iid-test-ranks.pt\")\n",
        "    # # torch.save(Err_iid_test,path1_rank+\"iid-test-ranks.pt\")\n",
        "    \n",
        "    # # torch.save(Err_emp_cifar_reg,path2_rank+\"cifar-emp-reg-ranks.pt\")\n",
        "    # # torch.save(Err_cifar_reg,path1_rank+\"cifar-reg-ranks.pt\")\n",
        "    # # torch.save(Err_emp_stl10_reg,path2_rank+\"stl10-emp-reg-ranks.pt\")\n",
        "    # # torch.save(Err_stl10_reg,path1_rank+\"stl10-reg-ranks.pt\")\n",
        "    # # torch.save(Err_emp_svhn_reg,path2_rank+\"svhn-emp-reg-ranks.pt\")\n",
        "    # # torch.save(Err_svhn_reg,path1_rank+\"svhn-reg-ranks.pt\")\n",
        "\n",
        "    # torch.save(Err_emp_cifar,path2_rank+\"cifar-emp-rank100.pt\")\n",
        "    # torch.save(Err_cifar,path1_rank+\"cifar-rank100.pt\")  \n",
        "    # torch.save(Err_emp_stl10,path2_rank+\"stl10-emp-rank100.pt\")\n",
        "    # torch.save(Err_stl10,path1_rank+\"stl10-rank100.pt\")  \n",
        "    # torch.save(Err_emp_svhn,path2_rank+\"svhn-emp-rank100.pt\")\n",
        "    # torch.save(Err_svhn,path1_rank+\"svhn-rank100.pt\")    \n",
        "\n",
        "    # torch.save(Err_emp_cifar_alpha,path2_rank+\"cifar-emp-alpha-rank100.pt\")\n",
        "    # torch.save(Err_cifar_alpha,path1_rank+\"cifar-alpha-rank100.pt\")  \n",
        "    # torch.save(Err_cifar_bound,path1_rank+\"cifar-bound-rank100.pt\")  \n",
        "    # torch.save(Err_emp_stl10_alpha,path2_rank+\"stl10-emp-alpha-rank100.pt\")\n",
        "    # torch.save(Err_stl10_alpha,path1_rank+\"stl10-alpha-rank100.pt\")  \n",
        "    # torch.save(Err_stl10_bound,path1_rank+\"stl10-bound-rank100.pt\")  \n",
        "    # torch.save(Err_emp_svhn_alpha,path2_rank+\"svhn-emp-alpha-rank100.pt\")\n",
        "    # torch.save(Err_svhn_alpha,path1_rank+\"svhn-alpha-rank100.pt\")  \n",
        "    # torch.save(Err_svhn_bound,path1_rank+\"svhn-bound-rank100.pt\")   \n",
        "\n",
        "    # torch.save(Err_emp_cifar_outss,path2_rank+\"cifar-emp-outss-rank100.pt\")\n",
        "    # torch.save(Err_cifar_outss,path1_rank+\"cifar-outss-rank100.pt\")  \n",
        "    # torch.save(Err_cifar_bound_outss,path1_rank+\"cifar-bound-outss-rank100.pt\")  \n",
        "    # torch.save(Err_emp_stl10_outss,path2_rank+\"stl10-emp-outss-rank100.pt\")\n",
        "    # torch.save(Err_stl10_outss,path1_rank+\"stl10-outss-rank100.pt\")  \n",
        "    # torch.save(Err_stl10_bound_outss,path1_rank+\"stl10-bound-outss-rank100.pt\")  \n",
        "    # torch.save(Err_emp_svhn_outss,path2_rank+\"svhn-emp-outss-rank100.pt\")\n",
        "    # torch.save(Err_svhn_outss,path1_rank+\"svhn-outss-rank100.pt\")  \n",
        "    # torch.save(Err_svhn_bound_outss,path1_rank+\"svhn-bound-outss-rank100.pt\") \n",
        "\n",
        "    # torch.save(Err_emp_iid_test,path2_rank+\"emp-iid-test-rank100.pt\")\n",
        "    # torch.save(Err_iid_test,path1_rank+\"iid-test-rank100.pt\")\n",
        "    \n",
        "    # torch.save(Err_emp_cifar_reg,path2_rank+\"cifar-emp-reg-rank100.pt\")\n",
        "    # torch.save(Err_cifar_reg,path1_rank+\"cifar-reg-rank100.pt\")\n",
        "    # torch.save(Err_emp_stl10_reg,path2_rank+\"stl10-emp-reg-rank100.pt\")\n",
        "    # torch.save(Err_stl10_reg,path1_rank+\"stl10-reg-rank100.pt\")\n",
        "    # torch.save(Err_emp_svhn_reg,path2_rank+\"svhn-emp-reg-rank100.pt\")\n",
        "    # torch.save(Err_svhn_reg,path1_rank+\"svhn-reg-rank100.pt\")\n"
      ]
    },
    {
      "cell_type": "code",
      "source": [
        "print(alpha_cifar)\n",
        "print(alpha_stl10)\n",
        "print(alpha_svhn)\n",
        "\n",
        "torch.save(alpha_cifar,path1_rank+\"alpha_cifar_50_100\")\n",
        "torch.save(alpha_stl10,path1_rank+\"alpha_stl10_50_100\")\n",
        "torch.save(alpha_svhn,path1_rank+\"alpha_svhn_50_100\")"
      ],
      "metadata": {
        "colab": {
          "base_uri": "https://localhost:8080/"
        },
        "id": "VFrPmAFsBSz1",
        "outputId": "8bed8ea8-4284-493a-b368-8c2a6c3d3d62"
      },
      "execution_count": null,
      "outputs": [
        {
          "output_type": "stream",
          "name": "stdout",
          "text": [
            "tensor([[56.5374, 55.8675, 55.5930, 55.3770, 55.2432, 55.1558, 55.0763, 55.0220,\n",
            "         54.9711, 54.9341, 54.9081, 54.8787, 54.8567, 54.8306, 54.8190, 54.8026,\n",
            "         54.7910, 54.7807],\n",
            "        [46.3874, 45.3596, 44.9010, 44.5934, 44.3949, 44.2267, 44.1190, 44.0175,\n",
            "         43.9522, 43.8953, 43.8580, 43.8190, 43.7857, 43.7452, 43.7228, 43.6963,\n",
            "         43.6788, 43.6551]], device='cuda:0')\n",
            "tensor([[76.4720, 75.9263, 75.7459, 75.5754, 75.4362, 75.3707, 75.3334, 75.2663,\n",
            "         75.2419, 75.2283, 75.2083, 75.1899, 75.1722, 75.1614, 75.1553, 75.1294,\n",
            "         75.1185, 75.0983],\n",
            "        [67.5094, 66.7972, 66.5428, 66.3103, 66.1776, 66.0538, 65.9800, 65.9153,\n",
            "         65.8495, 65.8033, 65.7698, 65.7455, 65.7289, 65.7119, 65.6847, 65.6665,\n",
            "         65.6522, 65.6447]], device='cuda:0')\n",
            "tensor([[34.1146, 33.2174, 32.7537, 32.4613, 32.1534, 32.1761, 32.0390, 31.8235,\n",
            "         31.7893, 31.6774, 31.6292, 31.6588, 31.6622, 31.5749, 31.5732, 31.5698,\n",
            "         31.5342, 31.5111],\n",
            "        [24.0753, 22.8017, 22.0990, 21.5735, 21.3069, 21.0778, 20.9455, 20.8135,\n",
            "         20.7259, 20.6524, 20.6152, 20.5435, 20.4792, 20.4348, 20.4211, 20.3677,\n",
            "         20.3831, 20.3410]], device='cuda:0')\n"
          ]
        }
      ]
    },
    {
      "cell_type": "code",
      "execution_count": null,
      "metadata": {
        "colab": {
          "base_uri": "https://localhost:8080/"
        },
        "id": "dDzWajEJR6o5",
        "outputId": "f8edf402-9bbc-4c22-d597-c4abc1091355"
      },
      "outputs": [
        {
          "name": "stdout",
          "output_type": "stream",
          "text": [
            "25\n",
            "torch.Size([3072, 1050]) torch.Size([3072, 525]) torch.Size([3072, 2500])\n",
            "tensor(2.9257, device='cuda:0')\n"
          ]
        },
        {
          "name": "stderr",
          "output_type": "stream",
          "text": [
            "100%|██████████| 200/200 [00:24<00:00,  8.22it/s]\n"
          ]
        },
        {
          "name": "stdout",
          "output_type": "stream",
          "text": [
            "tensor(0.0057, device='cuda:0')\n",
            "tensor(0.0058, device='cuda:0')\n",
            "tensor(0.0071, device='cuda:0')\n",
            "torch.Size([3072, 1600]) torch.Size([3072, 800]) torch.Size([3072, 2500])\n",
            "tensor(1.9200, device='cuda:0')\n"
          ]
        },
        {
          "name": "stderr",
          "output_type": "stream",
          "text": [
            "100%|██████████| 200/200 [00:49<00:00,  4.02it/s]\n"
          ]
        },
        {
          "name": "stdout",
          "output_type": "stream",
          "text": [
            "tensor(0.0063, device='cuda:0')\n",
            "tensor(0.0069, device='cuda:0')\n",
            "tensor(0.0079, device='cuda:0')\n",
            "torch.Size([3072, 2150]) torch.Size([3072, 1075]) torch.Size([3072, 2500])\n",
            "tensor(1.4288, device='cuda:0')\n"
          ]
        },
        {
          "name": "stderr",
          "output_type": "stream",
          "text": [
            "100%|██████████| 200/200 [01:34<00:00,  2.11it/s]\n"
          ]
        },
        {
          "name": "stdout",
          "output_type": "stream",
          "text": [
            "tensor(0.0059, device='cuda:0')\n",
            "tensor(0.0065, device='cuda:0')\n",
            "tensor(0.0074, device='cuda:0')\n",
            "torch.Size([3072, 2700]) torch.Size([3072, 1350]) torch.Size([3072, 2500])\n",
            "tensor(1.1378, device='cuda:0')\n"
          ]
        },
        {
          "name": "stderr",
          "output_type": "stream",
          "text": [
            "100%|██████████| 200/200 [03:22<00:00,  1.01s/it]\n"
          ]
        },
        {
          "name": "stdout",
          "output_type": "stream",
          "text": [
            "tensor(0.0049, device='cuda:0')\n",
            "tensor(0.0042, device='cuda:0')\n",
            "tensor(0.0050, device='cuda:0')\n",
            "torch.Size([3072, 3250]) torch.Size([3072, 1625]) torch.Size([3072, 2500])\n",
            "tensor(0.9452, device='cuda:0')\n"
          ]
        },
        {
          "name": "stderr",
          "output_type": "stream",
          "text": [
            "100%|██████████| 200/200 [04:11<00:00,  1.26s/it]\n"
          ]
        },
        {
          "name": "stdout",
          "output_type": "stream",
          "text": [
            "tensor(0.0013, device='cuda:0')\n",
            "tensor(0.0008, device='cuda:0')\n",
            "tensor(0.0012, device='cuda:0')\n",
            "torch.Size([3072, 3800]) torch.Size([3072, 1900]) torch.Size([3072, 2500])\n",
            "tensor(0.8084, device='cuda:0')\n"
          ]
        },
        {
          "name": "stderr",
          "output_type": "stream",
          "text": [
            "100%|██████████| 200/200 [04:11<00:00,  1.26s/it]\n"
          ]
        },
        {
          "name": "stdout",
          "output_type": "stream",
          "text": [
            "tensor(0.0047, device='cuda:0')\n",
            "tensor(0.0035, device='cuda:0')\n",
            "tensor(0.0044, device='cuda:0')\n",
            "torch.Size([3072, 4350]) torch.Size([3072, 2175]) torch.Size([3072, 2500])\n",
            "tensor(0.7062, device='cuda:0')\n"
          ]
        },
        {
          "name": "stderr",
          "output_type": "stream",
          "text": [
            "100%|██████████| 200/200 [04:13<00:00,  1.27s/it]\n"
          ]
        },
        {
          "name": "stdout",
          "output_type": "stream",
          "text": [
            "tensor(0.0045, device='cuda:0')\n",
            "tensor(0.0043, device='cuda:0')\n",
            "tensor(0.0041, device='cuda:0')\n",
            "torch.Size([3072, 4900]) torch.Size([3072, 2450]) torch.Size([3072, 2500])\n",
            "tensor(0.6269, device='cuda:0')\n"
          ]
        },
        {
          "name": "stderr",
          "output_type": "stream",
          "text": [
            "100%|██████████| 200/200 [04:15<00:00,  1.28s/it]\n"
          ]
        },
        {
          "name": "stdout",
          "output_type": "stream",
          "text": [
            "tensor(0.0053, device='cuda:0')\n",
            "tensor(0.0047, device='cuda:0')\n",
            "tensor(0.0047, device='cuda:0')\n",
            "torch.Size([3072, 5450]) torch.Size([3072, 2725]) torch.Size([3072, 2500])\n",
            "tensor(0.5637, device='cuda:0')\n"
          ]
        },
        {
          "name": "stderr",
          "output_type": "stream",
          "text": [
            "100%|██████████| 200/200 [04:16<00:00,  1.28s/it]\n"
          ]
        },
        {
          "name": "stdout",
          "output_type": "stream",
          "text": [
            "tensor(0.0040, device='cuda:0')\n",
            "tensor(0.0042, device='cuda:0')\n",
            "tensor(0.0040, device='cuda:0')\n",
            "torch.Size([3072, 6000]) torch.Size([3072, 3000]) torch.Size([3072, 2500])\n",
            "tensor(0.5120, device='cuda:0')\n"
          ]
        },
        {
          "name": "stderr",
          "output_type": "stream",
          "text": [
            "100%|██████████| 200/200 [04:18<00:00,  1.29s/it]\n"
          ]
        },
        {
          "name": "stdout",
          "output_type": "stream",
          "text": [
            "tensor(0.0025, device='cuda:0')\n",
            "tensor(0.0027, device='cuda:0')\n",
            "tensor(0.0034, device='cuda:0')\n",
            "torch.Size([3072, 6550]) torch.Size([3072, 3275]) torch.Size([3072, 2500])\n",
            "tensor(0.4690, device='cuda:0')\n"
          ]
        },
        {
          "name": "stderr",
          "output_type": "stream",
          "text": [
            "100%|██████████| 200/200 [04:20<00:00,  1.30s/it]\n"
          ]
        },
        {
          "name": "stdout",
          "output_type": "stream",
          "text": [
            "tensor(0.0035, device='cuda:0')\n",
            "tensor(0.0030, device='cuda:0')\n",
            "tensor(0.0030, device='cuda:0')\n",
            "torch.Size([3072, 7100]) torch.Size([3072, 3550]) torch.Size([3072, 2500])\n",
            "tensor(0.4327, device='cuda:0')\n"
          ]
        },
        {
          "name": "stderr",
          "output_type": "stream",
          "text": [
            "100%|██████████| 200/200 [04:21<00:00,  1.31s/it]\n"
          ]
        },
        {
          "name": "stdout",
          "output_type": "stream",
          "text": [
            "tensor(0.0034, device='cuda:0')\n",
            "tensor(0.0029, device='cuda:0')\n",
            "tensor(0.0032, device='cuda:0')\n",
            "torch.Size([3072, 7650]) torch.Size([3072, 3825]) torch.Size([3072, 2500])\n",
            "tensor(0.4016, device='cuda:0')\n"
          ]
        },
        {
          "name": "stderr",
          "output_type": "stream",
          "text": [
            "100%|██████████| 200/200 [04:22<00:00,  1.31s/it]\n"
          ]
        },
        {
          "name": "stdout",
          "output_type": "stream",
          "text": [
            "tensor(0.0026, device='cuda:0')\n",
            "tensor(0.0029, device='cuda:0')\n",
            "tensor(0.0024, device='cuda:0')\n",
            "torch.Size([3072, 8200]) torch.Size([3072, 4100]) torch.Size([3072, 2500])\n",
            "tensor(0.3746, device='cuda:0')\n"
          ]
        },
        {
          "name": "stderr",
          "output_type": "stream",
          "text": [
            "100%|██████████| 200/200 [04:25<00:00,  1.33s/it]\n"
          ]
        },
        {
          "name": "stdout",
          "output_type": "stream",
          "text": [
            "tensor(0.0031, device='cuda:0')\n",
            "tensor(0.0025, device='cuda:0')\n",
            "tensor(0.0030, device='cuda:0')\n",
            "torch.Size([3072, 8750]) torch.Size([3072, 4375]) torch.Size([3072, 2500])\n",
            "tensor(0.3511, device='cuda:0')\n"
          ]
        },
        {
          "name": "stderr",
          "output_type": "stream",
          "text": [
            "100%|██████████| 200/200 [04:26<00:00,  1.33s/it]\n"
          ]
        },
        {
          "name": "stdout",
          "output_type": "stream",
          "text": [
            "tensor(0.0032, device='cuda:0')\n",
            "tensor(0.0025, device='cuda:0')\n",
            "tensor(0.0025, device='cuda:0')\n",
            "torch.Size([3072, 9300]) torch.Size([3072, 4650]) torch.Size([3072, 2500])\n",
            "tensor(0.3303, device='cuda:0')\n"
          ]
        },
        {
          "name": "stderr",
          "output_type": "stream",
          "text": [
            "100%|██████████| 200/200 [04:28<00:00,  1.34s/it]\n"
          ]
        },
        {
          "name": "stdout",
          "output_type": "stream",
          "text": [
            "tensor(0.0029, device='cuda:0')\n",
            "tensor(0.0023, device='cuda:0')\n",
            "tensor(0.0023, device='cuda:0')\n",
            "torch.Size([3072, 9850]) torch.Size([3072, 4925]) torch.Size([3072, 2500])\n",
            "tensor(0.3119, device='cuda:0')\n"
          ]
        },
        {
          "name": "stderr",
          "output_type": "stream",
          "text": [
            "100%|██████████| 200/200 [04:29<00:00,  1.35s/it]\n"
          ]
        },
        {
          "name": "stdout",
          "output_type": "stream",
          "text": [
            "tensor(0.0028, device='cuda:0')\n",
            "tensor(0.0017, device='cuda:0')\n",
            "tensor(0.0026, device='cuda:0')\n",
            "torch.Size([3072, 10200]) torch.Size([3072, 5200]) torch.Size([3072, 2500])\n",
            "tensor(0.2954, device='cuda:0')\n"
          ]
        },
        {
          "name": "stderr",
          "output_type": "stream",
          "text": [
            "100%|██████████| 200/200 [04:30<00:00,  1.35s/it]\n"
          ]
        },
        {
          "name": "stdout",
          "output_type": "stream",
          "text": [
            "tensor(0.0063, device='cuda:0')\n",
            "tensor(0.0066, device='cuda:0')\n",
            "tensor(0.0054, device='cuda:0')\n",
            "100\n",
            "torch.Size([3072, 1050]) torch.Size([3072, 525]) torch.Size([3072, 2500])\n",
            "tensor(2.9257, device='cuda:0')\n"
          ]
        },
        {
          "name": "stderr",
          "output_type": "stream",
          "text": [
            "100%|██████████| 200/200 [00:25<00:00,  7.96it/s]\n"
          ]
        },
        {
          "name": "stdout",
          "output_type": "stream",
          "text": [
            "tensor(0.0272, device='cuda:0')\n",
            "tensor(0.0256, device='cuda:0')\n",
            "tensor(0.0296, device='cuda:0')\n",
            "torch.Size([3072, 1600]) torch.Size([3072, 800]) torch.Size([3072, 2500])\n",
            "tensor(1.9200, device='cuda:0')\n"
          ]
        },
        {
          "name": "stderr",
          "output_type": "stream",
          "text": [
            "100%|██████████| 200/200 [00:51<00:00,  3.89it/s]\n"
          ]
        },
        {
          "name": "stdout",
          "output_type": "stream",
          "text": [
            "tensor(0.0286, device='cuda:0')\n",
            "tensor(0.0278, device='cuda:0')\n",
            "tensor(0.0306, device='cuda:0')\n",
            "torch.Size([3072, 2150]) torch.Size([3072, 1075]) torch.Size([3072, 2500])\n",
            "tensor(1.4288, device='cuda:0')\n"
          ]
        },
        {
          "name": "stderr",
          "output_type": "stream",
          "text": [
            "100%|██████████| 200/200 [01:37<00:00,  2.04it/s]\n"
          ]
        },
        {
          "name": "stdout",
          "output_type": "stream",
          "text": [
            "tensor(0.0300, device='cuda:0')\n",
            "tensor(0.0289, device='cuda:0')\n",
            "tensor(0.0310, device='cuda:0')\n",
            "torch.Size([3072, 2700]) torch.Size([3072, 1350]) torch.Size([3072, 2500])\n",
            "tensor(1.1378, device='cuda:0')\n"
          ]
        },
        {
          "name": "stderr",
          "output_type": "stream",
          "text": [
            "100%|██████████| 200/200 [03:27<00:00,  1.04s/it]\n"
          ]
        },
        {
          "name": "stdout",
          "output_type": "stream",
          "text": [
            "tensor(0.0278, device='cuda:0')\n",
            "tensor(0.0275, device='cuda:0')\n",
            "tensor(0.0290, device='cuda:0')\n",
            "torch.Size([3072, 3250]) torch.Size([3072, 1625]) torch.Size([3072, 2500])\n",
            "tensor(0.9452, device='cuda:0')\n"
          ]
        },
        {
          "name": "stderr",
          "output_type": "stream",
          "text": [
            "100%|██████████| 200/200 [04:21<00:00,  1.31s/it]\n"
          ]
        },
        {
          "name": "stdout",
          "output_type": "stream",
          "text": [
            "tensor(0.0228, device='cuda:0')\n",
            "tensor(0.0227, device='cuda:0')\n",
            "tensor(0.0246, device='cuda:0')\n",
            "torch.Size([3072, 3800]) torch.Size([3072, 1900]) torch.Size([3072, 2500])\n",
            "tensor(0.8084, device='cuda:0')\n"
          ]
        },
        {
          "name": "stderr",
          "output_type": "stream",
          "text": [
            "100%|██████████| 200/200 [04:23<00:00,  1.32s/it]\n"
          ]
        },
        {
          "name": "stdout",
          "output_type": "stream",
          "text": [
            "tensor(0.0244, device='cuda:0')\n",
            "tensor(0.0243, device='cuda:0')\n",
            "tensor(0.0254, device='cuda:0')\n",
            "torch.Size([3072, 4350]) torch.Size([3072, 2175]) torch.Size([3072, 2500])\n",
            "tensor(0.7062, device='cuda:0')\n"
          ]
        },
        {
          "name": "stderr",
          "output_type": "stream",
          "text": [
            "100%|██████████| 200/200 [04:26<00:00,  1.33s/it]\n"
          ]
        },
        {
          "name": "stdout",
          "output_type": "stream",
          "text": [
            "tensor(0.0213, device='cuda:0')\n",
            "tensor(0.0208, device='cuda:0')\n",
            "tensor(0.0221, device='cuda:0')\n",
            "torch.Size([3072, 4900]) torch.Size([3072, 2450]) torch.Size([3072, 2500])\n",
            "tensor(0.6269, device='cuda:0')\n"
          ]
        },
        {
          "name": "stderr",
          "output_type": "stream",
          "text": [
            "100%|██████████| 200/200 [04:29<00:00,  1.35s/it]\n"
          ]
        },
        {
          "name": "stdout",
          "output_type": "stream",
          "text": [
            "tensor(0.0187, device='cuda:0')\n",
            "tensor(0.0186, device='cuda:0')\n",
            "tensor(0.0195, device='cuda:0')\n",
            "torch.Size([3072, 5450]) torch.Size([3072, 2725]) torch.Size([3072, 2500])\n",
            "tensor(0.5637, device='cuda:0')\n"
          ]
        },
        {
          "name": "stderr",
          "output_type": "stream",
          "text": [
            "100%|██████████| 200/200 [04:31<00:00,  1.36s/it]\n"
          ]
        },
        {
          "name": "stdout",
          "output_type": "stream",
          "text": [
            "tensor(0.0172, device='cuda:0')\n",
            "tensor(0.0169, device='cuda:0')\n",
            "tensor(0.0179, device='cuda:0')\n",
            "torch.Size([3072, 6000]) torch.Size([3072, 3000]) torch.Size([3072, 2500])\n",
            "tensor(0.5120, device='cuda:0')\n"
          ]
        },
        {
          "name": "stderr",
          "output_type": "stream",
          "text": [
            "100%|██████████| 200/200 [04:32<00:00,  1.36s/it]\n"
          ]
        },
        {
          "name": "stdout",
          "output_type": "stream",
          "text": [
            "tensor(0.0153, device='cuda:0')\n",
            "tensor(0.0148, device='cuda:0')\n",
            "tensor(0.0157, device='cuda:0')\n",
            "torch.Size([3072, 6550]) torch.Size([3072, 3275]) torch.Size([3072, 2500])\n",
            "tensor(0.4690, device='cuda:0')\n"
          ]
        },
        {
          "name": "stderr",
          "output_type": "stream",
          "text": [
            "100%|██████████| 200/200 [04:34<00:00,  1.37s/it]\n"
          ]
        },
        {
          "name": "stdout",
          "output_type": "stream",
          "text": [
            "tensor(0.0141, device='cuda:0')\n",
            "tensor(0.0137, device='cuda:0')\n",
            "tensor(0.0146, device='cuda:0')\n",
            "torch.Size([3072, 7100]) torch.Size([3072, 3550]) torch.Size([3072, 2500])\n",
            "tensor(0.4327, device='cuda:0')\n"
          ]
        },
        {
          "name": "stderr",
          "output_type": "stream",
          "text": [
            "100%|██████████| 200/200 [04:36<00:00,  1.38s/it]\n"
          ]
        },
        {
          "name": "stdout",
          "output_type": "stream",
          "text": [
            "tensor(0.0131, device='cuda:0')\n",
            "tensor(0.0132, device='cuda:0')\n",
            "tensor(0.0136, device='cuda:0')\n",
            "torch.Size([3072, 7650]) torch.Size([3072, 3825]) torch.Size([3072, 2500])\n",
            "tensor(0.4016, device='cuda:0')\n"
          ]
        },
        {
          "name": "stderr",
          "output_type": "stream",
          "text": [
            "100%|██████████| 200/200 [04:38<00:00,  1.39s/it]\n"
          ]
        },
        {
          "name": "stdout",
          "output_type": "stream",
          "text": [
            "tensor(0.0119, device='cuda:0')\n",
            "tensor(0.0121, device='cuda:0')\n",
            "tensor(0.0124, device='cuda:0')\n",
            "torch.Size([3072, 8200]) torch.Size([3072, 4100]) torch.Size([3072, 2500])\n",
            "tensor(0.3746, device='cuda:0')\n"
          ]
        },
        {
          "name": "stderr",
          "output_type": "stream",
          "text": [
            "100%|██████████| 200/200 [04:40<00:00,  1.40s/it]\n"
          ]
        },
        {
          "name": "stdout",
          "output_type": "stream",
          "text": [
            "tensor(0.0112, device='cuda:0')\n",
            "tensor(0.0109, device='cuda:0')\n",
            "tensor(0.0119, device='cuda:0')\n",
            "torch.Size([3072, 8750]) torch.Size([3072, 4375]) torch.Size([3072, 2500])\n",
            "tensor(0.3511, device='cuda:0')\n"
          ]
        },
        {
          "name": "stderr",
          "output_type": "stream",
          "text": [
            "100%|██████████| 200/200 [04:42<00:00,  1.41s/it]\n"
          ]
        },
        {
          "name": "stdout",
          "output_type": "stream",
          "text": [
            "tensor(0.0104, device='cuda:0')\n",
            "tensor(0.0105, device='cuda:0')\n",
            "tensor(0.0106, device='cuda:0')\n",
            "torch.Size([3072, 9300]) torch.Size([3072, 4650]) torch.Size([3072, 2500])\n",
            "tensor(0.3303, device='cuda:0')\n"
          ]
        },
        {
          "name": "stderr",
          "output_type": "stream",
          "text": [
            "100%|██████████| 200/200 [04:44<00:00,  1.42s/it]\n"
          ]
        },
        {
          "name": "stdout",
          "output_type": "stream",
          "text": [
            "tensor(0.0099, device='cuda:0')\n",
            "tensor(0.0096, device='cuda:0')\n",
            "tensor(0.0102, device='cuda:0')\n",
            "torch.Size([3072, 9850]) torch.Size([3072, 4925]) torch.Size([3072, 2500])\n",
            "tensor(0.3119, device='cuda:0')\n"
          ]
        },
        {
          "name": "stderr",
          "output_type": "stream",
          "text": [
            "100%|██████████| 200/200 [04:45<00:00,  1.43s/it]\n"
          ]
        },
        {
          "name": "stdout",
          "output_type": "stream",
          "text": [
            "tensor(0.0093, device='cuda:0')\n",
            "tensor(0.0091, device='cuda:0')\n",
            "tensor(0.0094, device='cuda:0')\n",
            "torch.Size([3072, 10200]) torch.Size([3072, 5200]) torch.Size([3072, 2500])\n",
            "tensor(0.2954, device='cuda:0')\n"
          ]
        },
        {
          "name": "stderr",
          "output_type": "stream",
          "text": [
            "100%|██████████| 200/200 [04:46<00:00,  1.43s/it]\n"
          ]
        },
        {
          "name": "stdout",
          "output_type": "stream",
          "text": [
            "tensor(0.0007, device='cuda:0')\n",
            "tensor(0.0008, device='cuda:0')\n",
            "tensor(0.0010, device='cuda:0')\n",
            "150\n",
            "torch.Size([3072, 1050]) torch.Size([3072, 525]) torch.Size([3072, 2500])\n",
            "tensor(2.9257, device='cuda:0')\n"
          ]
        },
        {
          "name": "stderr",
          "output_type": "stream",
          "text": [
            "100%|██████████| 200/200 [00:25<00:00,  7.92it/s]\n"
          ]
        },
        {
          "name": "stdout",
          "output_type": "stream",
          "text": [
            "tensor(0.0408, device='cuda:0')\n",
            "tensor(0.0387, device='cuda:0')\n",
            "tensor(0.0453, device='cuda:0')\n",
            "torch.Size([3072, 1600]) torch.Size([3072, 800]) torch.Size([3072, 2500])\n",
            "tensor(1.9200, device='cuda:0')\n"
          ]
        },
        {
          "name": "stderr",
          "output_type": "stream",
          "text": [
            "100%|██████████| 200/200 [00:51<00:00,  3.85it/s]\n"
          ]
        },
        {
          "name": "stdout",
          "output_type": "stream",
          "text": [
            "tensor(0.0437, device='cuda:0')\n",
            "tensor(0.0422, device='cuda:0')\n",
            "tensor(0.0469, device='cuda:0')\n",
            "torch.Size([3072, 2150]) torch.Size([3072, 1075]) torch.Size([3072, 2500])\n",
            "tensor(1.4288, device='cuda:0')\n"
          ]
        },
        {
          "name": "stderr",
          "output_type": "stream",
          "text": [
            "100%|██████████| 200/200 [01:38<00:00,  2.03it/s]\n"
          ]
        },
        {
          "name": "stdout",
          "output_type": "stream",
          "text": [
            "tensor(0.0449, device='cuda:0')\n",
            "tensor(0.0439, device='cuda:0')\n",
            "tensor(0.0474, device='cuda:0')\n",
            "torch.Size([3072, 2700]) torch.Size([3072, 1350]) torch.Size([3072, 2500])\n",
            "tensor(1.1378, device='cuda:0')\n"
          ]
        },
        {
          "name": "stderr",
          "output_type": "stream",
          "text": [
            "100%|██████████| 200/200 [03:28<00:00,  1.04s/it]\n"
          ]
        },
        {
          "name": "stdout",
          "output_type": "stream",
          "text": [
            "tensor(0.0448, device='cuda:0')\n",
            "tensor(0.0435, device='cuda:0')\n",
            "tensor(0.0466, device='cuda:0')\n",
            "torch.Size([3072, 3250]) torch.Size([3072, 1625]) torch.Size([3072, 2500])\n",
            "tensor(0.9452, device='cuda:0')\n"
          ]
        },
        {
          "name": "stderr",
          "output_type": "stream",
          "text": [
            "100%|██████████| 200/200 [04:25<00:00,  1.33s/it]\n"
          ]
        },
        {
          "name": "stdout",
          "output_type": "stream",
          "text": [
            "tensor(0.0393, device='cuda:0')\n",
            "tensor(0.0390, device='cuda:0')\n",
            "tensor(0.0413, device='cuda:0')\n",
            "torch.Size([3072, 3800]) torch.Size([3072, 1900]) torch.Size([3072, 2500])\n",
            "tensor(0.8084, device='cuda:0')\n"
          ]
        },
        {
          "name": "stderr",
          "output_type": "stream",
          "text": [
            "100%|██████████| 200/200 [04:28<00:00,  1.34s/it]\n"
          ]
        },
        {
          "name": "stdout",
          "output_type": "stream",
          "text": [
            "tensor(0.0374, device='cuda:0')\n",
            "tensor(0.0365, device='cuda:0')\n",
            "tensor(0.0387, device='cuda:0')\n",
            "torch.Size([3072, 4350]) torch.Size([3072, 2175]) torch.Size([3072, 2500])\n",
            "tensor(0.7062, device='cuda:0')\n"
          ]
        },
        {
          "name": "stderr",
          "output_type": "stream",
          "text": [
            "100%|██████████| 200/200 [04:30<00:00,  1.35s/it]\n"
          ]
        },
        {
          "name": "stdout",
          "output_type": "stream",
          "text": [
            "tensor(0.0323, device='cuda:0')\n",
            "tensor(0.0318, device='cuda:0')\n",
            "tensor(0.0333, device='cuda:0')\n",
            "torch.Size([3072, 4900]) torch.Size([3072, 2450]) torch.Size([3072, 2500])\n",
            "tensor(0.6269, device='cuda:0')\n"
          ]
        },
        {
          "name": "stderr",
          "output_type": "stream",
          "text": [
            "100%|██████████| 200/200 [04:33<00:00,  1.37s/it]\n"
          ]
        },
        {
          "name": "stdout",
          "output_type": "stream",
          "text": [
            "tensor(0.0288, device='cuda:0')\n",
            "tensor(0.0285, device='cuda:0')\n",
            "tensor(0.0299, device='cuda:0')\n",
            "torch.Size([3072, 5450]) torch.Size([3072, 2725]) torch.Size([3072, 2500])\n",
            "tensor(0.5637, device='cuda:0')\n"
          ]
        },
        {
          "name": "stderr",
          "output_type": "stream",
          "text": [
            "100%|██████████| 200/200 [04:34<00:00,  1.37s/it]\n"
          ]
        },
        {
          "name": "stdout",
          "output_type": "stream",
          "text": [
            "tensor(0.0255, device='cuda:0')\n",
            "tensor(0.0254, device='cuda:0')\n",
            "tensor(0.0266, device='cuda:0')\n",
            "torch.Size([3072, 6000]) torch.Size([3072, 3000]) torch.Size([3072, 2500])\n",
            "tensor(0.5120, device='cuda:0')\n"
          ]
        },
        {
          "name": "stderr",
          "output_type": "stream",
          "text": [
            "100%|██████████| 200/200 [04:36<00:00,  1.38s/it]\n"
          ]
        },
        {
          "name": "stdout",
          "output_type": "stream",
          "text": [
            "tensor(0.0237, device='cuda:0')\n",
            "tensor(0.0227, device='cuda:0')\n",
            "tensor(0.0240, device='cuda:0')\n",
            "torch.Size([3072, 6550]) torch.Size([3072, 3275]) torch.Size([3072, 2500])\n",
            "tensor(0.4690, device='cuda:0')\n"
          ]
        },
        {
          "name": "stderr",
          "output_type": "stream",
          "text": [
            "100%|██████████| 200/200 [04:39<00:00,  1.40s/it]\n"
          ]
        },
        {
          "name": "stdout",
          "output_type": "stream",
          "text": [
            "tensor(0.0208, device='cuda:0')\n",
            "tensor(0.0208, device='cuda:0')\n",
            "tensor(0.0220, device='cuda:0')\n",
            "torch.Size([3072, 7100]) torch.Size([3072, 3550]) torch.Size([3072, 2500])\n",
            "tensor(0.4327, device='cuda:0')\n"
          ]
        },
        {
          "name": "stderr",
          "output_type": "stream",
          "text": [
            "100%|██████████| 200/200 [04:41<00:00,  1.41s/it]\n"
          ]
        },
        {
          "name": "stdout",
          "output_type": "stream",
          "text": [
            "tensor(0.0195, device='cuda:0')\n",
            "tensor(0.0193, device='cuda:0')\n",
            "tensor(0.0204, device='cuda:0')\n",
            "torch.Size([3072, 7650]) torch.Size([3072, 3825]) torch.Size([3072, 2500])\n",
            "tensor(0.4016, device='cuda:0')\n"
          ]
        },
        {
          "name": "stderr",
          "output_type": "stream",
          "text": [
            "100%|██████████| 200/200 [04:42<00:00,  1.41s/it]\n"
          ]
        },
        {
          "name": "stdout",
          "output_type": "stream",
          "text": [
            "tensor(0.0184, device='cuda:0')\n",
            "tensor(0.0180, device='cuda:0')\n",
            "tensor(0.0192, device='cuda:0')\n",
            "torch.Size([3072, 8200]) torch.Size([3072, 4100]) torch.Size([3072, 2500])\n",
            "tensor(0.3746, device='cuda:0')\n"
          ]
        },
        {
          "name": "stderr",
          "output_type": "stream",
          "text": [
            "100%|██████████| 200/200 [04:44<00:00,  1.42s/it]\n"
          ]
        },
        {
          "name": "stdout",
          "output_type": "stream",
          "text": [
            "tensor(0.0168, device='cuda:0')\n",
            "tensor(0.0165, device='cuda:0')\n",
            "tensor(0.0176, device='cuda:0')\n",
            "torch.Size([3072, 8750]) torch.Size([3072, 4375]) torch.Size([3072, 2500])\n",
            "tensor(0.3511, device='cuda:0')\n"
          ]
        },
        {
          "name": "stderr",
          "output_type": "stream",
          "text": [
            "100%|██████████| 200/200 [04:47<00:00,  1.44s/it]\n"
          ]
        },
        {
          "name": "stdout",
          "output_type": "stream",
          "text": [
            "tensor(0.0165, device='cuda:0')\n",
            "tensor(0.0158, device='cuda:0')\n",
            "tensor(0.0168, device='cuda:0')\n",
            "torch.Size([3072, 9300]) torch.Size([3072, 4650]) torch.Size([3072, 2500])\n",
            "tensor(0.3303, device='cuda:0')\n"
          ]
        },
        {
          "name": "stderr",
          "output_type": "stream",
          "text": [
            "100%|██████████| 200/200 [04:48<00:00,  1.44s/it]\n"
          ]
        },
        {
          "name": "stdout",
          "output_type": "stream",
          "text": [
            "tensor(0.0149, device='cuda:0')\n",
            "tensor(0.0144, device='cuda:0')\n",
            "tensor(0.0156, device='cuda:0')\n",
            "torch.Size([3072, 9850]) torch.Size([3072, 4925]) torch.Size([3072, 2500])\n",
            "tensor(0.3119, device='cuda:0')\n"
          ]
        },
        {
          "name": "stderr",
          "output_type": "stream",
          "text": [
            "100%|██████████| 200/200 [04:50<00:00,  1.45s/it]\n"
          ]
        },
        {
          "name": "stdout",
          "output_type": "stream",
          "text": [
            "tensor(0.0140, device='cuda:0')\n",
            "tensor(0.0141, device='cuda:0')\n",
            "tensor(0.0147, device='cuda:0')\n",
            "torch.Size([3072, 10200]) torch.Size([3072, 5200]) torch.Size([3072, 2500])\n",
            "tensor(0.2954, device='cuda:0')\n"
          ]
        },
        {
          "name": "stderr",
          "output_type": "stream",
          "text": [
            "100%|██████████| 200/200 [04:51<00:00,  1.46s/it]"
          ]
        },
        {
          "name": "stdout",
          "output_type": "stream",
          "text": [
            "tensor(0.0052, device='cuda:0')\n",
            "tensor(0.0049, device='cuda:0')\n",
            "tensor(0.0054, device='cuda:0')\n"
          ]
        },
        {
          "name": "stderr",
          "output_type": "stream",
          "text": [
            "\n"
          ]
        }
      ],
      "source": [
        "from numpy.lib.arraysetops import setxor1d\n",
        "## Non-identical data augmentation experiments\n",
        "\n",
        "M = 3072\n",
        "N = torch.arange(1050,10500,550).to(torch.int)\n",
        "#r_values = [1,2,3,5,10,20,50,100,150,200,250]\n",
        "#r_values = [50]\n",
        "r_values = [25,100,150]\n",
        "# N = torch.arange(500,1000,500)\n",
        "# r_values = [1,100]\n",
        "Ntst = 2500\n",
        "\n",
        "Err_stl10 = torch.zeros(len(r_values),N.shape[0]).to(device) #theoretical error\n",
        "Err_emp_stl10 = torch.zeros(len(r_values),N.shape[0]).to(device) #emperical error \n",
        "\n",
        "Err_svhn = torch.zeros(len(r_values),N.shape[0]).to(device) #theoretical error\n",
        "Err_emp_svhn = torch.zeros(len(r_values),N.shape[0]).to(device) #emperical error \n",
        "\n",
        "Err_cifar = torch.zeros(len(r_values),N.shape[0]).to(device) #theoretical error\n",
        "Err_emp_cifar = torch.zeros(len(r_values),N.shape[0]).to(device) #emperical error \n",
        "\n",
        "# print(Err_svhn.shape)\n",
        "\n",
        "\n",
        "# bias = torch.zeros(len(r_values),N.shape[0])\n",
        "# var = torch.zeros(len(r_values),N.shape[0])\n",
        "\n",
        "# bias_emp = torch.zeros(len(r_values),N.shape[0])\n",
        "# var_emp = torch.zeros(len(r_values),N.shape[0])\n",
        "\n",
        "T = 200 #Number of runs\n",
        "\n",
        "for i,r in list(enumerate(r_values)):\n",
        "  print(r)\n",
        "  for j in range(N.shape[0]):\n",
        "    c = M/N[j]\n",
        "    cifar_train_data = torch.utils.data.DataLoader(cifar_train, batch_size = (N[j]//2).item(), shuffle = False)\n",
        "    Xtrn_cifar = next(iter(cifar_train_data))[0].T\n",
        "\n",
        "    stl10_data = torch.utils.data.DataLoader(stl10_train, batch_size = (N[j]//2).item(), shuffle = False)\n",
        "    Xtrn_stl10 = next(iter(stl10_data))[0].T\n",
        "\n",
        "    Xtrn = torch.cat((Xtrn_cifar,Xtrn_stl10),1) ##concatenating the training data for order d x N\n",
        "\n",
        "    cifar_test_data = torch.utils.data.DataLoader(cifar_test, batch_size = Ntst, shuffle = False)\n",
        "    Xtst_cifar = next(iter(cifar_test_data))[0].T\n",
        "\n",
        "    stl10_test_data = torch.utils.data.DataLoader(stl10_test, batch_size = Ntst, shuffle = False)\n",
        "    Xtst_stl10 = next(iter(stl10_test_data))[0].T\n",
        "\n",
        "    svhn_data = torch.utils.data.DataLoader(svhn_train, batch_size = Ntst, shuffle = False)\n",
        "    Xtst_svhn = next(iter(svhn_data))[0].T\n",
        "\n",
        "    print(Xtrn.shape, Xtrn_cifar.shape, Xtst_stl10.shape)\n",
        "\n",
        "    print(c)\n",
        "    U,S,Vh = torch.linalg.svd(Xtrn)\n",
        "    Xtrn = U[:,:r] @ torch.diag(S[:r]) @ Vh[:r,:]\n",
        "\n",
        "    P = U[:,:r] @ U[:,:r].T\n",
        "\n",
        "    Xtst_cifar_proj = P @ Xtst_cifar\n",
        "    Xtst_stl10_proj = P @ Xtst_stl10\n",
        "    Xtst_svhn_proj = P @ Xtst_svhn\n",
        "\n",
        "    L_cifar = U[:,:r].T @ Xtst_cifar\n",
        "    L_stl10 = U[:,:r].T @ Xtst_stl10\n",
        "    L_svhn = U[:,:r].T @ Xtst_svhn\n",
        "\n",
        "    Err_cifar[i,j] = calc_gen_error(M,N[j],c,Ntst,r,S[:r],L_cifar)\n",
        "    Err_stl10[i,j] = calc_gen_error(M,N[j],c,Ntst,r,S[:r],L_stl10)\n",
        "    Err_svhn[i,j] = calc_gen_error(M,N[j],c,Ntst,r,S[:r],L_svhn)\n",
        "\n",
        "    # wnorm = calc_wnorm(c,r,S[:r])\n",
        "    # emp_norm = 0\n",
        "    # emp_bias = 0\n",
        "    # bias = (torch.diag(1/(1+S[:r].square())) @ L_cifar).square().sum()\n",
        "    \n",
        "    for k in tqdm(range(T)):\n",
        "        Atrn = torch.randn_like(Xtrn)/np.sqrt(M)\n",
        "        W = Xtrn.mm(torch.pinverse(Xtrn+Atrn))\n",
        "\n",
        "        # emp_norm += W.square().sum()/T\n",
        "\n",
        "        Atst_cifar = torch.randn_like(Xtst_cifar_proj)/np.sqrt(M)\n",
        "        Yp = W.mm(Xtst_cifar_proj + Atst_cifar)\n",
        "        Err_emp_cifar[i,j] += (Xtst_cifar_proj - Yp).square().sum()/(T*Ntst)\n",
        "\n",
        "        # emp_bias += (Xtst_cifar_proj - W @ Xtst_cifar_proj).square().sum()/T\n",
        "\n",
        "        Atst_stl10 = torch.randn_like(Xtst_stl10_proj)/np.sqrt(M)\n",
        "        Yp = W.mm(Xtst_stl10_proj + Atst_stl10)\n",
        "        Err_emp_stl10[i,j] += (Xtst_stl10_proj - Yp).square().sum()/(T*Ntst)\n",
        "\n",
        "        Atst_svhn = torch.randn_like(Xtst_svhn_proj)/np.sqrt(M)\n",
        "        Yp = W.mm(Xtst_svhn_proj + Atst_svhn)\n",
        "        Err_emp_svhn[i,j] += (Xtst_svhn_proj - Yp).square().sum()/(T*Ntst)\n",
        "    # print(wnorm, bias)\n",
        "    # print(emp_norm, emp_bias)\n",
        "    \n",
        "    print((Err_emp_cifar[i,j]-Err_cifar[i,j]).abs()/Err_emp_cifar[i,j])\n",
        "    print((Err_emp_stl10[i,j]-Err_stl10[i,j]).abs()/Err_emp_stl10[i,j])\n",
        "    print((Err_emp_svhn[i,j]-Err_svhn[i,j]).abs()/Err_emp_svhn[i,j])\n",
        "\n",
        "    torch.save(Err_emp_cifar,path2_rank+\"cifar-emp-nonIdentical-ranks.pt\")\n",
        "    torch.save(Err_cifar,path1_rank+\"cifar-nonIdentical-ranks.pt\")  \n",
        "    torch.save(Err_emp_stl10,path2_rank+\"stl10-emp-nonIdentical-ranks.pt\")\n",
        "    torch.save(Err_stl10,path1_rank+\"stl10-nonIdentical-ranks.pt\")  \n",
        "    torch.save(Err_emp_svhn,path2_rank+\"svhn-emp-nonIdentical-ranks.pt\")\n",
        "    torch.save(Err_svhn,path1_rank+\"svhn-nonIdentical-ranks.pt\")    \n",
        "\n",
        "  # Error_stack = torch.cat((Error_stack,Err_cifar[i,:].unsqueeze(0)),0)\n",
        "  # Error_emp_stack = torch.cat((Error_emp_stack,Err_emp_cifar[i,:].unsqueeze(0)),0)\n",
        "  \n",
        "  # torch.save(Error_stack,path1_new_new)\n",
        "  # torch.save(Error_emp_stack,path2_new_new)    "
      ]
    },
    {
      "cell_type": "code",
      "execution_count": null,
      "metadata": {
        "id": "ooMl-JF_5zd3"
      },
      "outputs": [],
      "source": [
        "from numpy.lib.arraysetops import setxor1d\n",
        "## Data augmentation for multiple r values\n",
        "\n",
        "M = 3072\n",
        "#N = torch.arange(1000,6000,1000).to(torch.int) #for empirical values\n",
        "\n",
        "N = torch.arange(1000,6000,50).to(torch.int) ##more c values for smoother theory curves\n",
        "#r_values = [1,2,3,5,10,20,50,100,150,200,250]\n",
        "#r_values = [50]\n",
        "r_values = [25,100,150]\n",
        "theta_values = torch.tensor([1])\n",
        "# N = torch.arange(500,1000,500)\n",
        "# r_values = [1,100]\n",
        "Ntst = 2500\n",
        "\n",
        "Err_stl10 = torch.zeros(len(r_values),theta_values.shape[0],N.shape[0]).to(device) #theoretical error\n",
        "Err_emp_stl10 = torch.zeros(len(r_values),theta_values.shape[0],N.shape[0]//20).to(device) #emperical error \n",
        "\n",
        "Err_svhn = torch.zeros(len(r_values),theta_values.shape[0],N.shape[0]).to(device) #theoretical error\n",
        "Err_emp_svhn = torch.zeros(len(r_values),theta_values.shape[0],N.shape[0]//20).to(device) #emperical error \n",
        "\n",
        "Err_cifar = torch.zeros(len(r_values),theta_values.shape[0],N.shape[0]).to(device) #theoretical error\n",
        "Err_emp_cifar = torch.zeros(len(r_values),theta_values.shape[0],N.shape[0]//20).to(device) #emperical error \n",
        "print(Err_stl10.shape)\n",
        "\n",
        "\n",
        "# bias = torch.zeros(len(r_values),N.shape[0])\n",
        "# var = torch.zeros(len(r_values),N.shape[0])\n",
        "\n",
        "# bias_emp = torch.zeros(len(r_values),N.shape[0])\n",
        "# var_emp = torch.zeros(len(r_values),N.shape[0])\n",
        "\n",
        "#Number of runs\n",
        "T =200\n",
        "\n",
        "for i,r in list(enumerate(r_values)):\n",
        "  for j,_ in enumerate(theta_values):\n",
        "    theta = 1\n",
        "    print(r,theta)\n",
        "    T = 500\n",
        "    for k in range(N.shape[0]):\n",
        "      c = M/N[k]\n",
        "      cifar_data = torch.utils.data.DataLoader(cifar_train, batch_size = N[0].item(), shuffle = False)\n",
        "      batch = next(iter(cifar_data))[0].T\n",
        "      Xtrn = torch.clone(batch)\n",
        "      # for _ in range(k):\n",
        "      #   Xtrn = torch.cat((Xtrn,batch),dim=1)\n",
        "\n",
        "      cifar_test_data = torch.utils.data.DataLoader(cifar_test, batch_size = Ntst, shuffle = False)\n",
        "      Xtst_cifar = next(iter(cifar_test_data))[0].T\n",
        "\n",
        "      stl10_data = torch.utils.data.DataLoader(stl10_train, batch_size = Ntst, shuffle = False)\n",
        "      Xtst_stl10 = next(iter(stl10_data))[0].T\n",
        "\n",
        "      svhn_data = torch.utils.data.DataLoader(svhn_train, batch_size = Ntst, shuffle = False)\n",
        "      Xtst_svhn = next(iter(svhn_data))[0].T\n",
        "\n",
        "      print(Xtrn.shape, Xtst_cifar.shape)\n",
        "\n",
        "      print(c)\n",
        "      U,S,Vh = torch.linalg.svd(Xtrn)\n",
        "      Xtrn = theta * U[:,:r] @ torch.diag(S[:r]) @ Vh[:r,:]\n",
        "\n",
        "      P = U[:,:r] @ U[:,:r].T\n",
        "\n",
        "      Xtst_cifar_proj = P @ Xtst_cifar\n",
        "      Xtst_stl10_proj = P @ Xtst_stl10\n",
        "      Xtst_svhn_proj = P @ Xtst_svhn\n",
        "\n",
        "      # L_cifar = U[:,:r].T @ Xtst_cifar\n",
        "      # L_stl10 = U[:,:r].T @ Xtst_stl10\n",
        "      # L_svhn = U[:,:r].T @ Xtst_svhn\n",
        "\n",
        "      # Err_cifar[i,j,k] = calc_gen_error(M,N[k],c,Ntst,r,theta*S[:r],L_cifar)\n",
        "      # Err_stl10[i,j,k] = calc_gen_error(M,N[k],c,Ntst,r,theta*S[:r],L_stl10)\n",
        "      # Err_svhn[i,j,k] = calc_gen_error(M,N[k],c,Ntst,r,theta*S[:r],L_svhn)\n",
        "\n",
        "      if k%20 == 0:\n",
        "        for _ in range(k//20):\n",
        "          Xtrn = torch.cat((Xtrn,batch),dim=1)\n",
        "\n",
        "        for _ in tqdm(range(T)):\n",
        "          Atrn = torch.randn_like(Xtrn)/np.sqrt(M)\n",
        "          W = Xtrn.mm(torch.pinverse(Xtrn+Atrn))\n",
        "\n",
        "          Atst_cifar = torch.randn_like(Xtst_cifar_proj)/np.sqrt(M)\n",
        "          Yp = W.mm(Xtst_cifar_proj + Atst_cifar)\n",
        "          Err_emp_cifar[i,j,k//20] += (Xtst_cifar_proj - Yp).square().sum()/(T*Ntst)\n",
        "\n",
        "          Atst_stl10 = torch.randn_like(Xtst_stl10_proj)/np.sqrt(M)\n",
        "          Yp = W.mm(Xtst_stl10_proj + Atst_stl10)\n",
        "          Err_emp_stl10[i,j,k//20] += (Xtst_stl10_proj - Yp).square().sum()/(T*Ntst)\n",
        "\n",
        "          Atst_svhn = torch.randn_like(Xtst_svhn_proj)/np.sqrt(M)\n",
        "          Yp = W.mm(Xtst_svhn_proj + Atst_svhn)\n",
        "          Err_emp_svhn[i,j,k//20] += (Xtst_svhn_proj - Yp).square().sum()/(T*Ntst)\n",
        "      \n",
        "      # print((Err_emp_cifar[i,j,k]-Err_cifar[i,j,k]).abs()/Err_emp_cifar[i,j,k])\n",
        "      # print((Err_emp_stl10[i,j,k]-Err_stl10[i,j,k]).abs()/Err_emp_stl10[i,j,k])\n",
        "      # print((Err_emp_svhn[i,j,k]-Err_svhn[i,j,k]).abs()/Err_emp_svhn[i,j,k])\n",
        "\n",
        "        print(Err_emp_cifar[i,j,k//20])\n",
        "        print(Err_emp_stl10[i,j,k//20])\n",
        "        print(Err_emp_svhn[i,j,k//20])\n",
        "\n",
        "      torch.save(Err_emp_cifar,path2_rank+\"-data-aug-cifar-emp-ranks.pt\")\n",
        "      # torch.save(Err_cifar,path1_rank+\"-data-aug-cifar-ranks.pt\")  \n",
        "      torch.save(Err_emp_stl10,path2_rank+\"-data-aug-stl10-emp-ranks.pt\")\n",
        "      # torch.save(Err_stl10,path1_rank+\"-data-aug-stl10-ranks.pt\")  \n",
        "      torch.save(Err_emp_svhn,path2_rank+\"-data-aug-svhn-emp-ranks.pt\")\n",
        "      # torch.save(Err_svhn,path1_rank+\"-data-aug-svhn-ranks.pt\")    \n",
        "\n",
        "\n",
        "  # Error_stack = torch.cat((Error_stack,Err_cifar[i,:].unsqueeze(0)),0)\n",
        "  # Error_emp_stack = torch.cat((Error_emp_stack,Err_emp_cifar[i,:].unsqueeze(0)),0)\n",
        "  \n",
        "  # torch.save(Error_stack,path1_new_new)\n",
        "  # torch.save(Error_emp_stack,path2_new_new)"
      ]
    },
    {
      "cell_type": "code",
      "execution_count": null,
      "metadata": {
        "colab": {
          "background_save": true,
          "base_uri": "https://localhost:8080/"
        },
        "id": "6MZghcspnbnv",
        "outputId": "208e2e36-0d69-4f6f-d51c-6d5d6b60d108"
      },
      "outputs": [
        {
          "name": "stdout",
          "output_type": "stream",
          "text": [
            "torch.Size([3, 1, 5])\n",
            "25 1\n",
            "torch.Size([3072, 1000]) torch.Size([3072, 2500])\n",
            "tensor(3.0720, device='cuda:0')\n"
          ]
        },
        {
          "name": "stderr",
          "output_type": "stream",
          "text": [
            "100%|██████████| 500/500 [00:52<00:00,  9.52it/s]\n"
          ]
        },
        {
          "name": "stdout",
          "output_type": "stream",
          "text": [
            "tensor(0.0120, device='cuda:0')\n",
            "tensor(0.0120, device='cuda:0')\n",
            "tensor(0.0120, device='cuda:0')\n",
            "torch.Size([3072, 2000]) torch.Size([3072, 2500])\n",
            "tensor(1.5360, device='cuda:0')\n"
          ]
        },
        {
          "name": "stderr",
          "output_type": "stream",
          "text": [
            "100%|██████████| 500/500 [03:11<00:00,  2.61it/s]\n"
          ]
        },
        {
          "name": "stdout",
          "output_type": "stream",
          "text": [
            "tensor(0.0232, device='cuda:0')\n",
            "tensor(0.0232, device='cuda:0')\n",
            "tensor(0.0232, device='cuda:0')\n",
            "torch.Size([3072, 3000]) torch.Size([3072, 2500])\n",
            "tensor(1.0240, device='cuda:0')\n"
          ]
        },
        {
          "name": "stderr",
          "output_type": "stream",
          "text": [
            "100%|██████████| 500/500 [07:32<00:00,  1.10it/s]\n"
          ]
        },
        {
          "name": "stdout",
          "output_type": "stream",
          "text": [
            "tensor(0.3484, device='cuda:0')\n",
            "tensor(0.3485, device='cuda:0')\n",
            "tensor(0.3484, device='cuda:0')\n",
            "torch.Size([3072, 4000]) torch.Size([3072, 2500])\n",
            "tensor(0.7680, device='cuda:0')\n"
          ]
        },
        {
          "name": "stderr",
          "output_type": "stream",
          "text": [
            "100%|██████████| 500/500 [07:23<00:00,  1.13it/s]\n"
          ]
        },
        {
          "name": "stdout",
          "output_type": "stream",
          "text": [
            "tensor(0.0349, device='cuda:0')\n",
            "tensor(0.0349, device='cuda:0')\n",
            "tensor(0.0349, device='cuda:0')\n",
            "torch.Size([3072, 5000]) torch.Size([3072, 2500])\n",
            "tensor(0.6144, device='cuda:0')\n"
          ]
        },
        {
          "name": "stderr",
          "output_type": "stream",
          "text": [
            "100%|██████████| 500/500 [07:30<00:00,  1.11it/s]\n"
          ]
        },
        {
          "name": "stdout",
          "output_type": "stream",
          "text": [
            "tensor(0.0210, device='cuda:0')\n",
            "tensor(0.0210, device='cuda:0')\n",
            "tensor(0.0210, device='cuda:0')\n",
            "100 1\n",
            "torch.Size([3072, 1000]) torch.Size([3072, 2500])\n",
            "tensor(3.0720, device='cuda:0')\n"
          ]
        },
        {
          "name": "stderr",
          "output_type": "stream",
          "text": [
            "100%|██████████| 500/500 [00:54<00:00,  9.12it/s]\n"
          ]
        },
        {
          "name": "stdout",
          "output_type": "stream",
          "text": [
            "tensor(0.0468, device='cuda:0')\n",
            "tensor(0.0468, device='cuda:0')\n",
            "tensor(0.0467, device='cuda:0')\n",
            "torch.Size([3072, 2000]) torch.Size([3072, 2500])\n",
            "tensor(1.5360, device='cuda:0')\n"
          ]
        },
        {
          "name": "stderr",
          "output_type": "stream",
          "text": [
            "100%|██████████| 500/500 [03:19<00:00,  2.51it/s]\n"
          ]
        },
        {
          "name": "stdout",
          "output_type": "stream",
          "text": [
            "tensor(0.0903, device='cuda:0')\n",
            "tensor(0.0904, device='cuda:0')\n",
            "tensor(0.0903, device='cuda:0')\n",
            "torch.Size([3072, 3000]) torch.Size([3072, 2500])\n",
            "tensor(1.0240, device='cuda:0')\n"
          ]
        },
        {
          "name": "stderr",
          "output_type": "stream",
          "text": [
            "100%|██████████| 500/500 [07:46<00:00,  1.07it/s]\n"
          ]
        },
        {
          "name": "stdout",
          "output_type": "stream",
          "text": [
            "tensor(1.3615, device='cuda:0')\n",
            "tensor(1.3615, device='cuda:0')\n",
            "tensor(1.3604, device='cuda:0')\n",
            "torch.Size([3072, 4000]) torch.Size([3072, 2500])\n",
            "tensor(0.7680, device='cuda:0')\n"
          ]
        },
        {
          "name": "stderr",
          "output_type": "stream",
          "text": [
            "100%|██████████| 500/500 [07:47<00:00,  1.07it/s]\n"
          ]
        },
        {
          "name": "stdout",
          "output_type": "stream",
          "text": [
            "tensor(0.1369, device='cuda:0')\n",
            "tensor(0.1369, device='cuda:0')\n",
            "tensor(0.1369, device='cuda:0')\n",
            "torch.Size([3072, 5000]) torch.Size([3072, 2500])\n",
            "tensor(0.6144, device='cuda:0')\n"
          ]
        },
        {
          "name": "stderr",
          "output_type": "stream",
          "text": [
            "100%|██████████| 500/500 [07:56<00:00,  1.05it/s]\n"
          ]
        },
        {
          "name": "stdout",
          "output_type": "stream",
          "text": [
            "tensor(0.0827, device='cuda:0')\n",
            "tensor(0.0827, device='cuda:0')\n",
            "tensor(0.0827, device='cuda:0')\n",
            "150 1\n",
            "torch.Size([3072, 1000]) torch.Size([3072, 2500])\n",
            "tensor(3.0720, device='cuda:0')\n"
          ]
        },
        {
          "name": "stderr",
          "output_type": "stream",
          "text": [
            "100%|██████████| 500/500 [00:55<00:00,  8.98it/s]\n"
          ]
        },
        {
          "name": "stdout",
          "output_type": "stream",
          "text": [
            "tensor(0.0690, device='cuda:0')\n",
            "tensor(0.0690, device='cuda:0')\n",
            "tensor(0.0688, device='cuda:0')\n",
            "torch.Size([3072, 2000]) torch.Size([3072, 2500])\n",
            "tensor(1.5360, device='cuda:0')\n"
          ]
        },
        {
          "name": "stderr",
          "output_type": "stream",
          "text": [
            "100%|██████████| 500/500 [03:21<00:00,  2.48it/s]\n"
          ]
        },
        {
          "name": "stdout",
          "output_type": "stream",
          "text": [
            "tensor(0.1332, device='cuda:0')\n",
            "tensor(0.1333, device='cuda:0')\n",
            "tensor(0.1331, device='cuda:0')\n",
            "torch.Size([3072, 3000]) torch.Size([3072, 2500])\n",
            "tensor(1.0240, device='cuda:0')\n"
          ]
        },
        {
          "name": "stderr",
          "output_type": "stream",
          "text": [
            "100%|██████████| 500/500 [07:50<00:00,  1.06it/s]\n"
          ]
        },
        {
          "name": "stdout",
          "output_type": "stream",
          "text": [
            "tensor(2.0106, device='cuda:0')\n",
            "tensor(2.0116, device='cuda:0')\n",
            "tensor(2.0095, device='cuda:0')\n",
            "torch.Size([3072, 4000]) torch.Size([3072, 2500])\n",
            "tensor(0.7680, device='cuda:0')\n"
          ]
        },
        {
          "name": "stderr",
          "output_type": "stream",
          "text": [
            "100%|██████████| 500/500 [07:53<00:00,  1.06it/s]\n"
          ]
        },
        {
          "name": "stdout",
          "output_type": "stream",
          "text": [
            "tensor(0.2027, device='cuda:0')\n",
            "tensor(0.2027, device='cuda:0')\n",
            "tensor(0.2025, device='cuda:0')\n",
            "torch.Size([3072, 5000]) torch.Size([3072, 2500])\n",
            "tensor(0.6144, device='cuda:0')\n"
          ]
        },
        {
          "name": "stderr",
          "output_type": "stream",
          "text": [
            "100%|██████████| 500/500 [08:01<00:00,  1.04it/s]"
          ]
        },
        {
          "name": "stdout",
          "output_type": "stream",
          "text": [
            "tensor(0.1227, device='cuda:0')\n",
            "tensor(0.1228, device='cuda:0')\n",
            "tensor(0.1227, device='cuda:0')\n"
          ]
        },
        {
          "name": "stderr",
          "output_type": "stream",
          "text": [
            "\n"
          ]
        }
      ],
      "source": [
        "from numpy.lib.arraysetops import setxor1d\n",
        "## Low SNR error \n",
        "\n",
        "M = 3072\n",
        "N = torch.arange(1000,6000,1000).to(torch.int)\n",
        "#r_values = [1,2,3,5,10,20,50,100,150,200,250]\n",
        "#r_values = [50]\n",
        "r_values = [25,100,150]\n",
        "theta_values = torch.tensor([1])\n",
        "# N = torch.arange(500,1000,500)\n",
        "# r_values = [1,100]\n",
        "Ntst = 2500\n",
        "\n",
        "Err_stl10 = torch.zeros(len(r_values),theta_values.shape[0],N.shape[0]).to(device) #theoretical error\n",
        "Err_emp_stl10 = torch.zeros(len(r_values),theta_values.shape[0],N.shape[0]).to(device) #emperical error \n",
        "\n",
        "Err_svhn = torch.zeros(len(r_values),theta_values.shape[0],N.shape[0]).to(device) #theoretical error\n",
        "Err_emp_svhn = torch.zeros(len(r_values),theta_values.shape[0],N.shape[0]).to(device) #emperical error \n",
        "\n",
        "Err_cifar = torch.zeros(len(r_values),theta_values.shape[0],N.shape[0]).to(device) #theoretical error\n",
        "Err_emp_cifar = torch.zeros(len(r_values),theta_values.shape[0],N.shape[0]).to(device) #emperical error \n",
        "print(Err_stl10.shape)\n",
        "\n",
        "\n",
        "# bias = torch.zeros(len(r_values),N.shape[0])\n",
        "# var = torch.zeros(len(r_values),N.shape[0])\n",
        "\n",
        "# bias_emp = torch.zeros(len(r_values),N.shape[0])\n",
        "# var_emp = torch.zeros(len(r_values),N.shape[0])\n",
        "\n",
        "#Number of runs\n",
        "T = 500\n",
        "\n",
        "for i,r in list(enumerate(r_values)):\n",
        "  for j,_ in enumerate(theta_values):\n",
        "    theta = 1\n",
        "    print(r,theta)\n",
        "    \n",
        "    for k in range(N.shape[0]):\n",
        "      c = M/N[k]\n",
        "      cifar_data = torch.utils.data.DataLoader(cifar_train, batch_size = N[0].item(), shuffle = False)\n",
        "      batch = next(iter(cifar_data))[0].T\n",
        "      Xtrn = torch.clone(batch)\n",
        "      for _ in range(k):\n",
        "        Xtrn = torch.cat((Xtrn,batch),dim=1)\n",
        "\n",
        "      cifar_test_data = torch.utils.data.DataLoader(cifar_test, batch_size = Ntst, shuffle = False)\n",
        "      Xtst_cifar = next(iter(cifar_test_data))[0].T\n",
        "\n",
        "      stl10_data = torch.utils.data.DataLoader(stl10_train, batch_size = Ntst, shuffle = False)\n",
        "      Xtst_stl10 = next(iter(stl10_data))[0].T\n",
        "\n",
        "      svhn_data = torch.utils.data.DataLoader(svhn_train, batch_size = Ntst, shuffle = False)\n",
        "      Xtst_svhn = next(iter(svhn_data))[0].T\n",
        "\n",
        "      print(Xtrn.shape, Xtst_cifar.shape)\n",
        "\n",
        "      print(c)\n",
        "      U,S,Vh = torch.linalg.svd(Xtrn)\n",
        "      Xtrn = theta * U[:,:r] @ torch.diag(S[:r]) @ Vh[:r,:]\n",
        "\n",
        "      P = U[:,:r] @ U[:,:r].T\n",
        "\n",
        "      Xtst_cifar_proj = P @ Xtst_cifar\n",
        "      Xtst_stl10_proj = P @ Xtst_stl10\n",
        "      Xtst_svhn_proj = P @ Xtst_svhn\n",
        "\n",
        "      # L_cifar = U[:,:r].T @ Xtst_cifar\n",
        "      # L_stl10 = U[:,:r].T @ Xtst_stl10\n",
        "      # L_svhn = U[:,:r].T @ Xtst_svhn\n",
        "\n",
        "      # Err_cifar[i,j,k] = calc_gen_error(M,N[k],c,Ntst,r,theta*S[:r],L_cifar)\n",
        "      # Err_stl10[i,j,k] = calc_gen_error(M,N[k],c,Ntst,r,theta*S[:r],L_stl10)\n",
        "      # Err_svhn[i,j,k] = calc_gen_error(M,N[k],c,Ntst,r,theta*S[:r],L_svhn)\n",
        "      \n",
        "      for _ in tqdm(range(T)):\n",
        "          Atrn = torch.randn_like(Xtrn)/np.sqrt(M)\n",
        "          W = Xtrn.mm(torch.pinverse(Xtrn+Atrn))\n",
        "\n",
        "          Atst_cifar = torch.randn_like(Xtst_cifar_proj)/np.sqrt(M)\n",
        "          Yp = W.mm(Xtst_cifar_proj + Atst_cifar)\n",
        "          Err_emp_cifar[i,j,k] += (Xtst_cifar_proj - Yp).square().sum()/(T*Ntst)\n",
        "\n",
        "          Atst_stl10 = torch.randn_like(Xtst_stl10_proj)/np.sqrt(M)\n",
        "          Yp = W.mm(Xtst_stl10_proj + Atst_stl10)\n",
        "          Err_emp_stl10[i,j,k] += (Xtst_stl10_proj - Yp).square().sum()/(T*Ntst)\n",
        "\n",
        "          Atst_svhn = torch.randn_like(Xtst_svhn_proj)/np.sqrt(M)\n",
        "          Yp = W.mm(Xtst_svhn_proj + Atst_svhn)\n",
        "          Err_emp_svhn[i,j,k] += (Xtst_svhn_proj - Yp).square().sum()/(T*Ntst)\n",
        "      \n",
        "      # print((Err_emp_cifar[i,j,k]-Err_cifar[i,j,k]).abs()/Err_emp_cifar[i,j,k])\n",
        "      # print((Err_emp_stl10[i,j,k]-Err_stl10[i,j,k]).abs()/Err_emp_stl10[i,j,k])\n",
        "      # print((Err_emp_svhn[i,j,k]-Err_svhn[i,j,k]).abs()/Err_emp_svhn[i,j,k])\n",
        "\n",
        "      print(Err_emp_cifar[i,j,k])\n",
        "      print(Err_emp_stl10[i,j,k])\n",
        "      print(Err_emp_svhn[i,j,k])\n",
        "\n",
        "      # torch.save(Err_emp_cifar,path2_new_new+\"-data-aug-cifar-emp.pt\")\n",
        "      # torch.save(Err_cifar,path1_new_new+\"-data-aug-cifar.pt\")  \n",
        "      # torch.save(Err_emp_stl10,path2_new_new+\"-data-aug-stl10-emp.pt\")\n",
        "      # torch.save(Err_stl10,path1_new_new+\"-data-aug-stl10.pt\")  \n",
        "      # torch.save(Err_emp_svhn,path2_new_new+\"-data-aug-svhn-emp.pt\")\n",
        "      # torch.save(Err_svhn,path1_new_new+\"-data-aug-svhn.pt\")    \n",
        "\n",
        "      torch.save(Err_emp_cifar,path2_rank+\"-data-aug-cifar-emp-ranks.pt\")\n",
        "      # torch.save(Err_cifar,path1_rank+\"-data-aug-cifar-ranks.pt\")  \n",
        "      torch.save(Err_emp_stl10,path2_rank+\"-data-aug-stl10-emp-ranks.pt\")\n",
        "      # torch.save(Err_stl10,path1_rank+\"-data-aug-stl10-ranks.pt\")  \n",
        "      torch.save(Err_emp_svhn,path2_rank+\"-data-aug-svhn-emp-ranks.pt\")\n",
        "      # torch.save(Err_svhn,path1_rank+\"-data-aug-svhn-ranks.pt\")    \n",
        "\n",
        "\n",
        "  # Error_stack = torch.cat((Error_stack,Err_cifar[i,:].unsqueeze(0)),0)\n",
        "  # Error_emp_stack = torch.cat((Error_emp_stack,Err_emp_cifar[i,:].unsqueeze(0)),0)\n",
        "  \n",
        "  # torch.save(Error_stack,path1_new_new)\n",
        "  # torch.save(Error_emp_stack,path2_new_new)    "
      ]
    },
    {
      "cell_type": "code",
      "execution_count": null,
      "metadata": {
        "colab": {
          "base_uri": "https://localhost:8080/"
        },
        "id": "41qjWCbfWVQH",
        "outputId": "bdb9b084-b9b1-4940-bfed-0a735838653b"
      },
      "outputs": [
        {
          "name": "stdout",
          "output_type": "stream",
          "text": [
            "tensor([[0.0137, 0.0148, 0.0138, 0.0131, 0.0097, 0.0111, 0.0106, 0.0089, 0.0084,\n",
            "         0.0078, 0.0079, 0.0068, 0.0067, 0.0049, 0.0054, 0.0051, 0.0049, 0.0035]],\n",
            "       device='cuda:0')\n"
          ]
        }
      ],
      "source": [
        "print((Err_emp_svhn-Err_svhn).abs()/Err_emp_svhn)"
      ]
    },
    {
      "cell_type": "code",
      "execution_count": null,
      "metadata": {
        "id": "uq9pKl9xXyI1"
      },
      "outputs": [],
      "source": [
        "plt.rc('font',size=20)\n",
        "plt.rc('xtick', labelsize=14) \n",
        "plt.rc('ytick', labelsize=14)\n",
        "plt.rc('legend',fontsize=15)"
      ]
    },
    {
      "cell_type": "code",
      "execution_count": null,
      "metadata": {
        "colab": {
          "base_uri": "https://localhost:8080/",
          "height": 468
        },
        "id": "cagwPbeyWa1w",
        "outputId": "831c7340-70ca-42bf-8ce9-a0e1ca7030d3"
      },
      "outputs": [
        {
          "data": {
            "image/png": "[encoded data removed]",
            "text/plain": [
              "<Figure size 640x480 with 1 Axes>"
            ]
          },
          "metadata": {},
          "output_type": "display_data"
        }
      ],
      "source": [
        "path_figures = F\"/content/drive/My Drive/Denoising/figures/\"\n",
        "\n",
        "device = 'cpu'\n",
        "M = 3072\n",
        "N = torch.arange(1050,10500,550).to(torch.int).cpu()\n",
        "#N_theory = torch.arange(500,6010,55).to(torch.int)\n",
        "\n",
        "Cinverse = (N/M).cpu().numpy()\n",
        "#Cinverse_theory = (N_theory/M).cpu().numpy()\n",
        "# Err_emp_iid_both = torch.load(path2_new_new+\"iid-both-emp.pt\",map_location = device).numpy()\n",
        "# Err_iid_both = torch.load(path1_figures+\"iid-both.pt\",map_location = device).numpy()\n",
        "\n",
        "plt.plot(Cinverse,Err_svhn[0,:].cpu().numpy(),color=\"red\")\n",
        "plt.plot(Cinverse,Err_emp_svhn[0,:].cpu().numpy(),'.',markersize = 15,color=\"red\")\n",
        "\n",
        "plt.yscale(\"log\")\n",
        "plt.xlabel(\"1/c = N/d\")\n",
        "plt.ylabel(\"Generalization Error\")\n",
        "plt.legend(['Theoretical Result','Empirical Result'],fontsize=13.5)\n",
        "#plt.title('CIFAR Dataset')\n",
        "plt.savefig(path_figures+\"non-identical-svhn-error.pdf\", bbox_inches='tight', facecolor='white', dpi = 300, format = 'pdf')"
      ]
    },
    {
      "cell_type": "code",
      "execution_count": null,
      "metadata": {
        "colab": {
          "base_uri": "https://localhost:8080/"
        },
        "id": "vAJ_NmAtoGIS",
        "outputId": "da7b6556-a8e9-4ada-cde6-a179d292f69c"
      },
      "outputs": [
        {
          "name": "stdout",
          "output_type": "stream",
          "text": [
            "tensor([1050, 1600, 2150, 2700], device='cuda:0', dtype=torch.int32)\n",
            "tensor([ 3250,  3800,  4350,  4900,  5450,  6000,  6550,  7100,  7650,  8200,\n",
            "         8750,  9300,  9850, 10400], device='cuda:0', dtype=torch.int32)\n"
          ]
        }
      ],
      "source": [
        "N = torch.arange(1050,3250,550).to(torch.int)\n",
        "print(N)"
      ]
    },
    {
      "cell_type": "code",
      "execution_count": null,
      "metadata": {
        "colab": {
          "background_save": true,
          "base_uri": "https://localhost:8080/"
        },
        "id": "e3CCtGkPG3BD",
        "outputId": "3cff11a6-6a1c-481b-a300-b9d9e90fb9c1"
      },
      "outputs": [
        {
          "name": "stdout",
          "output_type": "stream",
          "text": [
            "torch.Size([1, 18])\n",
            "r= tensor(1050, device='cuda:0', dtype=torch.int32)\n"
          ]
        },
        {
          "name": "stderr",
          "output_type": "stream",
          "text": [
            "/usr/local/lib/python3.10/dist-packages/torchvision/transforms/functional.py:1603: UserWarning: The default value of the antialias parameter of all the resizing transforms (Resize(), RandomResizedCrop(), etc.) will change from None to True in v0.17, in order to be consistent across the PIL and Tensor backends. To suppress this warning, directly pass antialias=True (recommended, future default), antialias=None (current default, which means False for Tensors and True for PIL), or antialias=False (only works on Tensors - PIL will still use antialiasing). This also applies if you are using the inference transforms from the models weights: update the call to weights.transforms(antialias=True).\n",
            "  warnings.warn(\n"
          ]
        },
        {
          "name": "stdout",
          "output_type": "stream",
          "text": [
            "torch.Size([3072, 1050]) torch.Size([3072, 2500])\n",
            "tensor(2.9257, device='cuda:0')\n"
          ]
        },
        {
          "name": "stderr",
          "output_type": "stream",
          "text": [
            "100%|██████████| 200/200 [00:48<00:00,  4.11it/s]\n"
          ]
        },
        {
          "name": "stdout",
          "output_type": "stream",
          "text": [
            "tensor(0.2399, device='cuda:0')\n",
            "tensor(0.1584, device='cuda:0')\n",
            "tensor(0.2908, device='cuda:0')\n",
            "r= tensor(1600, device='cuda:0', dtype=torch.int32)\n",
            "torch.Size([3072, 1600]) torch.Size([3072, 2500])\n",
            "tensor(1.9200, device='cuda:0')\n"
          ]
        },
        {
          "name": "stderr",
          "output_type": "stream",
          "text": [
            "100%|██████████| 200/200 [02:12<00:00,  1.51it/s]\n"
          ]
        },
        {
          "name": "stdout",
          "output_type": "stream",
          "text": [
            "tensor(0.3699, device='cuda:0')\n",
            "tensor(0.2188, device='cuda:0')\n",
            "tensor(0.4343, device='cuda:0')\n",
            "r= tensor(2150, device='cuda:0', dtype=torch.int32)\n",
            "torch.Size([3072, 2150]) torch.Size([3072, 2500])\n",
            "tensor(1.4288, device='cuda:0')\n"
          ]
        },
        {
          "name": "stderr",
          "output_type": "stream",
          "text": [
            "100%|██████████| 200/200 [05:16<00:00,  1.58s/it]\n"
          ]
        },
        {
          "name": "stdout",
          "output_type": "stream",
          "text": [
            "tensor(0.4972, device='cuda:0')\n",
            "tensor(0.2772, device='cuda:0')\n",
            "tensor(0.5675, device='cuda:0')\n",
            "r= tensor(2700, device='cuda:0', dtype=torch.int32)\n",
            "torch.Size([3072, 2700]) torch.Size([3072, 2500])\n",
            "tensor(1.1378, device='cuda:0')\n"
          ]
        },
        {
          "name": "stderr",
          "output_type": "stream",
          "text": [
            "100%|██████████| 200/200 [10:38<00:00,  3.19s/it]\n"
          ]
        },
        {
          "name": "stdout",
          "output_type": "stream",
          "text": [
            "tensor(0.6170, device='cuda:0')\n",
            "tensor(0.3359, device='cuda:0')\n",
            "tensor(0.6889, device='cuda:0')\n",
            "r= 3072\n",
            "torch.Size([3072, 3250]) torch.Size([3072, 2500])\n",
            "tensor(0.9452, device='cuda:0')\n"
          ]
        },
        {
          "name": "stderr",
          "output_type": "stream",
          "text": [
            "100%|██████████| 200/200 [13:38<00:00,  4.09s/it]\n"
          ]
        },
        {
          "name": "stdout",
          "output_type": "stream",
          "text": [
            "tensor(0.6422, device='cuda:0')\n",
            "tensor(0.3514, device='cuda:0')\n",
            "tensor(0.7065, device='cuda:0')\n",
            "r= 3072\n",
            "torch.Size([3072, 3800]) torch.Size([3072, 2500])\n",
            "tensor(0.8084, device='cuda:0')\n"
          ]
        },
        {
          "name": "stderr",
          "output_type": "stream",
          "text": [
            "100%|██████████| 200/200 [13:50<00:00,  4.15s/it]\n"
          ]
        },
        {
          "name": "stdout",
          "output_type": "stream",
          "text": [
            "tensor(0.5353, device='cuda:0')\n",
            "tensor(0.3168, device='cuda:0')\n",
            "tensor(0.5812, device='cuda:0')\n",
            "r= 3072\n",
            "torch.Size([3072, 4350]) torch.Size([3072, 2500])\n",
            "tensor(0.7062, device='cuda:0')\n"
          ]
        },
        {
          "name": "stderr",
          "output_type": "stream",
          "text": [
            "100%|██████████| 200/200 [14:00<00:00,  4.20s/it]\n"
          ]
        },
        {
          "name": "stdout",
          "output_type": "stream",
          "text": [
            "tensor(0.4532, device='cuda:0')\n",
            "tensor(0.2799, device='cuda:0')\n",
            "tensor(0.4881, device='cuda:0')\n",
            "r= 3072\n",
            "torch.Size([3072, 4900]) torch.Size([3072, 2500])\n",
            "tensor(0.6269, device='cuda:0')\n"
          ]
        },
        {
          "name": "stderr",
          "output_type": "stream",
          "text": [
            "100%|██████████| 200/200 [14:09<00:00,  4.25s/it]\n"
          ]
        },
        {
          "name": "stdout",
          "output_type": "stream",
          "text": [
            "tensor(0.3922, device='cuda:0')\n",
            "tensor(0.2493, device='cuda:0')\n",
            "tensor(0.4200, device='cuda:0')\n",
            "r= 3072\n",
            "torch.Size([3072, 5450]) torch.Size([3072, 2500])\n",
            "tensor(0.5637, device='cuda:0')\n"
          ]
        },
        {
          "name": "stderr",
          "output_type": "stream",
          "text": [
            "100%|██████████| 200/200 [14:13<00:00,  4.27s/it]\n"
          ]
        },
        {
          "name": "stdout",
          "output_type": "stream",
          "text": [
            "tensor(0.3471, device='cuda:0')\n",
            "tensor(0.2265, device='cuda:0')\n",
            "tensor(0.3704, device='cuda:0')\n",
            "r= 3072\n",
            "torch.Size([3072, 6000]) torch.Size([3072, 2500])\n",
            "tensor(0.5120, device='cuda:0')\n"
          ]
        },
        {
          "name": "stderr",
          "output_type": "stream",
          "text": [
            "100%|██████████| 200/200 [14:22<00:00,  4.31s/it]\n"
          ]
        },
        {
          "name": "stdout",
          "output_type": "stream",
          "text": [
            "tensor(0.3101, device='cuda:0')\n",
            "tensor(0.2057, device='cuda:0')\n",
            "tensor(0.3297, device='cuda:0')\n",
            "r= 3072\n",
            "torch.Size([3072, 6550]) torch.Size([3072, 2500])\n",
            "tensor(0.4690, device='cuda:0')\n"
          ]
        },
        {
          "name": "stderr",
          "output_type": "stream",
          "text": [
            "100%|██████████| 200/200 [14:28<00:00,  4.34s/it]\n"
          ]
        },
        {
          "name": "stdout",
          "output_type": "stream",
          "text": [
            "tensor(0.2814, device='cuda:0')\n",
            "tensor(0.1894, device='cuda:0')\n",
            "tensor(0.2984, device='cuda:0')\n",
            "r= 3072\n",
            "torch.Size([3072, 7100]) torch.Size([3072, 2500])\n",
            "tensor(0.4327, device='cuda:0')\n"
          ]
        },
        {
          "name": "stderr",
          "output_type": "stream",
          "text": [
            "100%|██████████| 200/200 [14:32<00:00,  4.36s/it]\n"
          ]
        },
        {
          "name": "stdout",
          "output_type": "stream",
          "text": [
            "tensor(0.2574, device='cuda:0')\n",
            "tensor(0.1755, device='cuda:0')\n",
            "tensor(0.2725, device='cuda:0')\n",
            "r= 3072\n",
            "torch.Size([3072, 7650]) torch.Size([3072, 2500])\n",
            "tensor(0.4016, device='cuda:0')\n"
          ]
        },
        {
          "name": "stderr",
          "output_type": "stream",
          "text": [
            "100%|██████████| 200/200 [14:39<00:00,  4.40s/it]\n"
          ]
        },
        {
          "name": "stdout",
          "output_type": "stream",
          "text": [
            "tensor(0.2370, device='cuda:0')\n",
            "tensor(0.1632, device='cuda:0')\n",
            "tensor(0.2504, device='cuda:0')\n",
            "r= 3072\n",
            "torch.Size([3072, 8200]) torch.Size([3072, 2500])\n",
            "tensor(0.3746, device='cuda:0')\n"
          ]
        },
        {
          "name": "stderr",
          "output_type": "stream",
          "text": [
            "100%|██████████| 200/200 [14:47<00:00,  4.44s/it]\n"
          ]
        },
        {
          "name": "stdout",
          "output_type": "stream",
          "text": [
            "tensor(0.2193, device='cuda:0')\n",
            "tensor(0.1519, device='cuda:0')\n",
            "tensor(0.2312, device='cuda:0')\n",
            "r= 3072\n",
            "torch.Size([3072, 8750]) torch.Size([3072, 2500])\n",
            "tensor(0.3511, device='cuda:0')\n"
          ]
        },
        {
          "name": "stderr",
          "output_type": "stream",
          "text": [
            "100%|██████████| 200/200 [14:51<00:00,  4.46s/it]\n"
          ]
        },
        {
          "name": "stdout",
          "output_type": "stream",
          "text": [
            "tensor(0.2040, device='cuda:0')\n",
            "tensor(0.1422, device='cuda:0')\n",
            "tensor(0.2149, device='cuda:0')\n",
            "r= 3072\n",
            "torch.Size([3072, 9300]) torch.Size([3072, 2500])\n",
            "tensor(0.3303, device='cuda:0')\n"
          ]
        },
        {
          "name": "stderr",
          "output_type": "stream",
          "text": [
            "100%|██████████| 200/200 [14:55<00:00,  4.48s/it]\n"
          ]
        },
        {
          "name": "stdout",
          "output_type": "stream",
          "text": [
            "tensor(0.1907, device='cuda:0')\n",
            "tensor(0.1339, device='cuda:0')\n",
            "tensor(0.2009, device='cuda:0')\n",
            "r= 3072\n",
            "torch.Size([3072, 9850]) torch.Size([3072, 2500])\n",
            "tensor(0.3119, device='cuda:0')\n"
          ]
        },
        {
          "name": "stderr",
          "output_type": "stream",
          "text": [
            "100%|██████████| 200/200 [15:03<00:00,  4.52s/it]\n"
          ]
        },
        {
          "name": "stdout",
          "output_type": "stream",
          "text": [
            "tensor(0.1792, device='cuda:0')\n",
            "tensor(0.1263, device='cuda:0')\n",
            "tensor(0.1884, device='cuda:0')\n",
            "r= 3072\n",
            "torch.Size([3072, 10400]) torch.Size([3072, 2500])\n",
            "tensor(0.2954, device='cuda:0')\n"
          ]
        },
        {
          "name": "stderr",
          "output_type": "stream",
          "text": [
            "100%|██████████| 200/200 [15:10<00:00,  4.55s/it]\n"
          ]
        },
        {
          "name": "stdout",
          "output_type": "stream",
          "text": [
            "tensor(0.1688, device='cuda:0')\n",
            "tensor(0.1195, device='cuda:0')\n",
            "tensor(0.1773, device='cuda:0')\n"
          ]
        }
      ],
      "source": [
        " from numpy.lib.arraysetops import setxor1d\n",
        "## Low SNR error \n",
        "\n",
        "M = 3072\n",
        "N = torch.arange(1050,10500,550).to(torch.int)\n",
        "#r_values = [1,2,3,5,10,20,50,100,150,200,250]\n",
        "#r_values = [50]\n",
        "#r_values = N\n",
        "# N = torch.arange(500,1000,500)\n",
        "# r_values = [1,100]\n",
        "Ntst = 2500\n",
        "\n",
        "# Err_stl10 = torch.zeros(len(r_values),N.shape[0]).to(device) #theoretical error\n",
        "# Err_emp_stl10 = torch.zeros(len(r_values),N.shape[0]).to(device) #empirical error \n",
        "\n",
        "# Err_svhn = torch.zeros(len(r_values),N.shape[0]).to(device) #theoretical error\n",
        "# Err_emp_svhn = torch.zeros(len(r_values),N.shape[0]).to(device) #empirical error \n",
        "\n",
        "# Err_cifar = torch.zeros(len(r_values),N.shape[0]).to(device) #theoretical error\n",
        "# Err_emp_cifar = torch.zeros(len(r_values),N.shape[0]).to(device) #empirical error \n",
        "# print(Err_stl10.shape)\n",
        "\n",
        "\n",
        "Err_stl10 = torch.zeros(1,N.shape[0]).to(device) #theoretical error\n",
        "Err_emp_stl10 = torch.zeros(1,N.shape[0]).to(device) #empirical error \n",
        "\n",
        "Err_svhn = torch.zeros(1,N.shape[0]).to(device) #theoretical error\n",
        "Err_emp_svhn = torch.zeros(1,N.shape[0]).to(device) #empirical error \n",
        "\n",
        "Err_cifar = torch.zeros(1,N.shape[0]).to(device) #theoretical error\n",
        "Err_emp_cifar = torch.zeros(1,N.shape[0]).to(device) #empirical error \n",
        "print(Err_stl10.shape)\n",
        "\n",
        "# bias = torch.zeros(len(r_values),N.shape[0])\n",
        "# var = torch.zeros(len(r_values),N.shape[0])\n",
        "\n",
        "# bias_emp = torch.zeros(len(r_values),N.shape[0])\n",
        "# var_emp = torch.zeros(len(r_values),N.shape[0])\n",
        "\n",
        "T = 200 #Number of runs\n",
        "\n",
        "# for i,r in list(enumerate(r_values)):\n",
        "#   print(r)\n",
        "\n",
        "i = 0\n",
        "\n",
        "for j in range(N.shape[0]):\n",
        "    r = min(M,N[j])\n",
        "    print(\"r=\",r)\n",
        "    c = M/N[j]\n",
        "    \n",
        "    cifar_data = torch.utils.data.DataLoader(cifar_train, batch_size = N[j].item(), shuffle = False)\n",
        "    Xtrn = next(iter(cifar_data))[0].T\n",
        "\n",
        "    cifar_test_data = torch.utils.data.DataLoader(cifar_test, batch_size = Ntst, shuffle = False)\n",
        "    Xtst_cifar = next(iter(cifar_test_data))[0].T\n",
        "\n",
        "    stl10_data = torch.utils.data.DataLoader(stl10_train, batch_size = Ntst, shuffle = False)\n",
        "    Xtst_stl10 = next(iter(stl10_data))[0].T\n",
        "\n",
        "    svhn_data = torch.utils.data.DataLoader(svhn_train, batch_size = Ntst, shuffle = False)\n",
        "    Xtst_svhn = next(iter(svhn_data))[0].T\n",
        "\n",
        "    print(Xtrn.shape, Xtst_cifar.shape)\n",
        "\n",
        "    print(c)\n",
        "    U,S,Vh = torch.linalg.svd(Xtrn)\n",
        "    Xtrn = U[:,:r] @ torch.diag(S[:r]) @ Vh[:r,:]\n",
        "\n",
        "    P = U[:,:r] @ U[:,:r].T\n",
        "\n",
        "    Xtst_cifar_proj = P @ Xtst_cifar\n",
        "    Xtst_stl10_proj = P @ Xtst_stl10\n",
        "    Xtst_svhn_proj = P @ Xtst_svhn\n",
        "\n",
        "    L_cifar = U[:,:r].T @ Xtst_cifar\n",
        "    L_stl10 = U[:,:r].T @ Xtst_stl10\n",
        "    L_svhn = U[:,:r].T @ Xtst_svhn\n",
        "\n",
        "    Err_cifar[i,j] = calc_gen_error(M,N[j],c,Ntst,r,S[:r],L_cifar)\n",
        "    Err_stl10[i,j] = calc_gen_error(M,N[j],c,Ntst,r,S[:r],L_stl10)\n",
        "    Err_svhn[i,j] = calc_gen_error(M,N[j],c,Ntst,r,S[:r],L_svhn)\n",
        "\n",
        "    wnorm = calc_wnorm(c,r,S[:r])\n",
        "    emp_norm = 0\n",
        "    emp_bias = 0\n",
        "    bias = (torch.diag(1/(1+S[:r].square())) @ L_cifar).square().sum()\n",
        "    \n",
        "    for k in tqdm(range(T)):\n",
        "        Atrn = torch.randn_like(Xtrn)/np.sqrt(M)\n",
        "        W = Xtrn.mm(torch.pinverse(Xtrn+Atrn))\n",
        "\n",
        "        # emp_norm += W.square().sum()/T\n",
        "\n",
        "        Atst_cifar = torch.randn_like(Xtst_cifar_proj)/np.sqrt(M)\n",
        "        Yp = W.mm(Xtst_cifar_proj + Atst_cifar)\n",
        "        Err_emp_cifar[i,j] += (Xtst_cifar_proj - Yp).square().sum()/(T*Ntst)\n",
        "\n",
        "        # emp_bias += (Xtst_cifar_proj - W @ Xtst_cifar_proj).square().sum()/T\n",
        "\n",
        "        Atst_stl10 = torch.randn_like(Xtst_stl10_proj)/np.sqrt(M)\n",
        "        Yp = W.mm(Xtst_stl10_proj + Atst_stl10)\n",
        "        Err_emp_stl10[i,j] += (Xtst_stl10_proj - Yp).square().sum()/(T*Ntst)\n",
        "\n",
        "        Atst_svhn = torch.randn_like(Xtst_svhn_proj)/np.sqrt(M)\n",
        "        Yp = W.mm(Xtst_svhn_proj + Atst_svhn)\n",
        "        Err_emp_svhn[i,j] += (Xtst_svhn_proj - Yp).square().sum()/(T*Ntst)\n",
        "    # print(wnorm, bias)\n",
        "    # print(emp_norm, emp_bias)\n",
        "    \n",
        "    print((Err_emp_cifar[i,j]-Err_cifar[i,j]).abs()/Err_emp_cifar[i,j])\n",
        "    print((Err_emp_stl10[i,j]-Err_stl10[i,j]).abs()/Err_emp_stl10[i,j])\n",
        "    print((Err_emp_svhn[i,j]-Err_svhn[i,j]).abs()/Err_emp_svhn[i,j])\n",
        "\n",
        "    # torch.save(Err_emp_cifar,path2+\"cifar-emp-highR.pt\")\n",
        "    # torch.save(Err_cifar,path1+\"cifar-highR.pt\")  \n",
        "    # torch.save(Err_emp_stl10,path2+\"stl10-emp-highR.pt\")\n",
        "    # torch.save(Err_stl10,path1+\"stl10-highR.pt\")  \n",
        "    # torch.save(Err_emp_svhn,path2+\"svhn-emp-highR.pt\")\n",
        "    # torch.save(Err_svhn,path1+\"svhn-highR.pt\")   \n",
        "\n",
        "    torch.save(Err_emp_cifar,path2+\"cifar-emp-fullR.pt\")\n",
        "    torch.save(Err_cifar,path1+\"cifar-fullR.pt\")  \n",
        "    torch.save(Err_emp_stl10,path2+\"stl10-emp-fullR.pt\")\n",
        "    torch.save(Err_stl10,path1+\"stl10-fullR.pt\")  \n",
        "    torch.save(Err_emp_svhn,path2+\"svhn-emp-fullR.pt\")\n",
        "    torch.save(Err_svhn,path1+\"svhn-fullR.pt\")  \n",
        "\n",
        "\n",
        "    \n",
        "  # Error_stack = torch.cat((Error_stack,Err_cifar[i,:].unsqueeze(0)),0)\n",
        "  # Error_emp_stack = torch.cat((Error_emp_stack,Err_emp_cifar[i,:].unsqueeze(0)),0)\n",
        "  \n",
        "  # torch.save(Error_stack,path1_new_new)\n",
        "  # torch.save(Error_emp_stack,path2_new_new)    "
      ]
    },
    {
      "cell_type": "code",
      "execution_count": null,
      "metadata": {
        "id": "xOdBRizvnZaI"
      },
      "outputs": [],
      "source": []
    },
    {
      "cell_type": "code",
      "execution_count": null,
      "metadata": {
        "id": "OVk_4mVADMLw"
      },
      "outputs": [],
      "source": [
        "path_figures = F\"/content/drive/My Drive/Denoising/figures/\"\n",
        "\n",
        "device = 'cpu'\n",
        "M = 3072\n",
        "N = torch.arange(1050,10500,550).to(torch.int).cpu()\n",
        "#N_theory = torch.arange(500,6010,55).to(torch.int)\n",
        "\n",
        "Cinverse = (N/M).cpu().numpy()\n",
        "#Cinverse_theory = (N_theory/M).cpu().numpy()\n",
        "Err_emp_cifar_fullR = torch.load(path2+\"cifar-emp-fullR.pt\",map_location = device).numpy()\n",
        "Err_cifar_fullR = torch.load(path1+\"cifar-fullR.pt\",map_location = device).numpy()\n",
        "\n",
        "plt.plot(Cinverse,Err_cifar_fullR[0,:],color=\"green\")\n",
        "plt.plot(Cinverse,Err_emp_cifar_fullR[0,:],'.',markersize = 15,color=\"green\")\n",
        "\n",
        "plt.yscale(\"log\")\n",
        "plt.xlabel(\"1/c = N/d\")\n",
        "plt.ylabel(\"Generalization Error\")\n",
        "plt.legend(['Theoretical Result','Empirical Result'],fontsize=13.5)\n",
        "#plt.title('CIFAR Dataset')\n",
        "plt.savefig(path_figures+\"cifar-error-fullR.pdf\", bbox_inches='tight', facecolor='white', dpi = 300, format = 'pdf')"
      ]
    },
    {
      "cell_type": "code",
      "execution_count": null,
      "metadata": {
        "id": "n0IVRCW3DcWd"
      },
      "outputs": [],
      "source": [
        "path_figures = F\"/content/drive/My Drive/Denoising/figures/\"\n",
        "\n",
        "device = 'cpu'\n",
        "M = 3072\n",
        "N = torch.arange(1050,10500,550).to(torch.int).cpu()\n",
        "#N_theory = torch.arange(500,6010,55).to(torch.int)\n",
        "\n",
        "Cinverse = (N/M).cpu().numpy()\n",
        "#Cinverse_theory = (N_theory/M).cpu().numpy()\n",
        "Err_emp_stl10_fullR = torch.load(path2+\"stl10-emp-fullR.pt\",map_location = device).numpy()\n",
        "Err_stl10_fullR = torch.load(path1+\"stl10-fullR.pt\",map_location = device).numpy()\n",
        "\n",
        "plt.plot(Cinverse,Err_stl10_fullR[0,:],color=\"blue\")\n",
        "plt.plot(Cinverse,Err_emp_stl10_fullR[0,:],'.',markersize = 15,color=\"blue\")\n",
        "\n",
        "plt.yscale(\"log\")\n",
        "plt.xlabel(\"1/c = N/d\")\n",
        "plt.ylabel(\"Generalization Error\")\n",
        "plt.legend(['Theoretical Result','Empirical Result'],fontsize=13.5)\n",
        "#plt.title('CIFAR Dataset')\n",
        "plt.savefig(path_figures+\"stl10-error-fullR.pdf\", bbox_inches='tight', facecolor='white', dpi = 300, format = 'pdf')"
      ]
    },
    {
      "cell_type": "code",
      "execution_count": null,
      "metadata": {
        "id": "luFcpH_KDuc5"
      },
      "outputs": [],
      "source": [
        "path_figures = F\"/content/drive/My Drive/Denoising/figures/\"\n",
        "\n",
        "device = 'cpu'\n",
        "M = 3072\n",
        "N = torch.arange(1050,10500,550).to(torch.int).cpu()\n",
        "#N_theory = torch.arange(500,6010,55).to(torch.int)\n",
        "\n",
        "Cinverse = (N/M).cpu().numpy()\n",
        "#Cinverse_theory = (N_theory/M).cpu().numpy()\n",
        "Err_emp_svhn_fullR = torch.load(path2+\"svhn-emp-fullR.pt\",map_location = device).numpy()\n",
        "Err_svhn_fullR = torch.load(path1+\"svhn-fullR.pt\",map_location = device).numpy()\n",
        "\n",
        "plt.plot(Cinverse,Err_svhn_fullR[0,:],color=\"red\")\n",
        "plt.plot(Cinverse,Err_emp_svhn_fullR[0,:],'.',markersize = 15,color=\"red\")\n",
        "\n",
        "plt.yscale(\"log\")\n",
        "plt.xlabel(\"1/c = N/d\")\n",
        "plt.ylabel(\"Generalization Error\")\n",
        "plt.legend(['Theoretical Result','Empirical Result'],fontsize=13.5)\n",
        "#plt.title('CIFAR Dataset')\n",
        "plt.savefig(path_figures+\"svhn-error-fullR.pdf\", bbox_inches='tight', facecolor='white', dpi = 300, format = 'pdf')"
      ]
    },
    {
      "cell_type": "code",
      "execution_count": null,
      "metadata": {
        "id": "XEKmcztvq-kT"
      },
      "outputs": [],
      "source": []
    }
  ],
  "metadata": {
    "accelerator": "GPU",
    "colab": {
      "machine_shape": "hm",
      "provenance": []
    },
    "gpuClass": "standard",
    "kernelspec": {
      "display_name": "Python 3",
      "name": "python3"
    },
    "language_info": {
      "name": "python"
    }
  },
  "nbformat": 4,
  "nbformat_minor": 0
}